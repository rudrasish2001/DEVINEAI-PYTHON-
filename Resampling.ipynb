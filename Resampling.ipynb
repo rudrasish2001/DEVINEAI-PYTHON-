{
  "nbformat": 4,
  "nbformat_minor": 0,
  "metadata": {
    "colab": {
      "name": "Resampling.ipynb",
      "provenance": [],
      "authorship_tag": "ABX9TyMEPLLiBd089Mny0oUel5Ws",
      "include_colab_link": true
    },
    "kernelspec": {
      "name": "python3",
      "display_name": "Python 3"
    },
    "language_info": {
      "name": "python"
    }
  },
  "cells": [
    {
      "cell_type": "markdown",
      "metadata": {
        "id": "view-in-github",
        "colab_type": "text"
      },
      "source": [
        "<a href=\"https://colab.research.google.com/github/SoumeshPattanaik/DivineAI/blob/main/Resampling.ipynb\" target=\"_parent\"><img src=\"https://colab.research.google.com/assets/colab-badge.svg\" alt=\"Open In Colab\"/></a>"
      ]
    },
    {
      "cell_type": "code",
      "metadata": {
        "id": "OYYTvRuLRaUP"
      },
      "source": [
        "import pandas as pd\n",
        "import numpy as np"
      ],
      "execution_count": 1,
      "outputs": []
    },
    {
      "cell_type": "code",
      "metadata": {
        "id": "TNUL7VSUSE9v"
      },
      "source": [
        "rng = pd.date_range('July 11 2021',periods=72,freq='H')\n",
        "ts = pd.Series(np.random.randn(len(rng)),index=rng)"
      ],
      "execution_count": 2,
      "outputs": []
    },
    {
      "cell_type": "code",
      "metadata": {
        "id": "kpj6NLFgVVeC"
      },
      "source": [
        "converted = ts.asfreq('45Min',method='pad')"
      ],
      "execution_count": 3,
      "outputs": []
    },
    {
      "cell_type": "code",
      "metadata": {
        "colab": {
          "base_uri": "https://localhost:8080/"
        },
        "id": "BQZ8muGZVe3O",
        "outputId": "3d259287-ccd3-43d6-e419-e47c1184ea1f"
      },
      "source": [
        "converted"
      ],
      "execution_count": 4,
      "outputs": [
        {
          "output_type": "execute_result",
          "data": {
            "text/plain": [
              "2021-07-11 00:00:00    0.002999\n",
              "2021-07-11 00:45:00    0.002999\n",
              "2021-07-11 01:30:00   -0.896217\n",
              "2021-07-11 02:15:00    0.157951\n",
              "2021-07-11 03:00:00    2.369873\n",
              "                         ...   \n",
              "2021-07-13 19:30:00    0.046362\n",
              "2021-07-13 20:15:00    0.794406\n",
              "2021-07-13 21:00:00    0.202404\n",
              "2021-07-13 21:45:00    0.202404\n",
              "2021-07-13 22:30:00    0.499408\n",
              "Freq: 45T, Length: 95, dtype: float64"
            ]
          },
          "metadata": {
            "tags": []
          },
          "execution_count": 4
        }
      ]
    },
    {
      "cell_type": "code",
      "metadata": {
        "id": "UzZD1a4WV4Ev"
      },
      "source": [
        "converted = ts.asfreq('45Min',method='bfill') # bfill is used to backward fill the missing values in the dataset. It will backward fill the NaN values that are present in the pandas dataframe."
      ],
      "execution_count": 5,
      "outputs": []
    },
    {
      "cell_type": "code",
      "metadata": {
        "colab": {
          "base_uri": "https://localhost:8080/"
        },
        "id": "uc1p6cOOV914",
        "outputId": "4cfad05b-eb95-40b7-9bad-a0d510142ca8"
      },
      "source": [
        "converted"
      ],
      "execution_count": 6,
      "outputs": [
        {
          "output_type": "execute_result",
          "data": {
            "text/plain": [
              "2021-07-11 00:00:00    0.002999\n",
              "2021-07-11 00:45:00   -0.896217\n",
              "2021-07-11 01:30:00    0.157951\n",
              "2021-07-11 02:15:00    2.369873\n",
              "2021-07-11 03:00:00    2.369873\n",
              "                         ...   \n",
              "2021-07-13 19:30:00    0.794406\n",
              "2021-07-13 20:15:00    0.202404\n",
              "2021-07-13 21:00:00    0.202404\n",
              "2021-07-13 21:45:00    0.499408\n",
              "2021-07-13 22:30:00   -0.643478\n",
              "Freq: 45T, Length: 95, dtype: float64"
            ]
          },
          "metadata": {
            "tags": []
          },
          "execution_count": 6
        }
      ]
    },
    {
      "cell_type": "code",
      "metadata": {
        "colab": {
          "base_uri": "https://localhost:8080/"
        },
        "id": "HvZzVNCHV_Bs",
        "outputId": "6113fd5c-527e-4cca-8a91-50cb89ca9b17"
      },
      "source": [
        "ts.resample('D').sum()"
      ],
      "execution_count": 7,
      "outputs": [
        {
          "output_type": "execute_result",
          "data": {
            "text/plain": [
              "2021-07-11   -3.456877\n",
              "2021-07-12    3.448278\n",
              "2021-07-13    1.462389\n",
              "Freq: D, dtype: float64"
            ]
          },
          "metadata": {
            "tags": []
          },
          "execution_count": 7
        }
      ]
    },
    {
      "cell_type": "code",
      "metadata": {
        "colab": {
          "base_uri": "https://localhost:8080/"
        },
        "id": "dtdrQ1YOWS32",
        "outputId": "80e4eff4-09d3-4d24-da29-c4bb9c678fbe"
      },
      "source": [
        "ts.resample('H').sum()"
      ],
      "execution_count": 8,
      "outputs": [
        {
          "output_type": "execute_result",
          "data": {
            "text/plain": [
              "2021-07-11 00:00:00    0.002999\n",
              "2021-07-11 01:00:00   -0.896217\n",
              "2021-07-11 02:00:00    0.157951\n",
              "2021-07-11 03:00:00    2.369873\n",
              "2021-07-11 04:00:00    0.105553\n",
              "                         ...   \n",
              "2021-07-13 19:00:00    0.046362\n",
              "2021-07-13 20:00:00    0.794406\n",
              "2021-07-13 21:00:00    0.202404\n",
              "2021-07-13 22:00:00    0.499408\n",
              "2021-07-13 23:00:00   -0.643478\n",
              "Freq: H, Length: 72, dtype: float64"
            ]
          },
          "metadata": {
            "tags": []
          },
          "execution_count": 8
        }
      ]
    },
    {
      "cell_type": "code",
      "metadata": {
        "id": "VuegNxNnWVeU"
      },
      "source": [
        ""
      ],
      "execution_count": null,
      "outputs": []
    }
  ]
}