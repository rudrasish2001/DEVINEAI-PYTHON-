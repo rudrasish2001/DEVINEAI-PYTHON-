{
 "cells": [
  {
   "cell_type": "code",
   "execution_count": 1,
   "metadata": {},
   "outputs": [
    {
     "name": "stdout",
     "output_type": "stream",
     "text": [
      "1200\n"
     ]
    }
   ],
   "source": [
    "d5 = {'Apple': 10, 'banana': 5,'orange':4,'Guava':6} \n",
    "op=1\n",
    "for i in d5.values():\n",
    "    op=op*i\n",
    "print(op)"
   ]
  },
  {
   "cell_type": "code",
   "execution_count": 2,
   "metadata": {},
   "outputs": [
    {
     "name": "stdout",
     "output_type": "stream",
     "text": [
      "10\n",
      "50\n",
      "200\n",
      "1200\n"
     ]
    }
   ],
   "source": [
    "FruitDict = {'Apple': 10, 'banana': 5,'orange':4,'Guava':6} \n",
    "x=1\n",
    "for i in FruitDict.values():\n",
    "    x=x*i\n",
    "    print(x)"
   ]
  },
  {
   "cell_type": "code",
   "execution_count": 3,
   "metadata": {},
   "outputs": [
    {
     "name": "stdout",
     "output_type": "stream",
     "text": [
      "Present,  value = 200\n",
      "Not present\n"
     ]
    }
   ],
   "source": [
    "def checkKey(dict, key):\n",
    "      \n",
    "    if key in dict.keys():\n",
    "        print(\"Present, \", end =\" \")\n",
    "        print(\"value =\", dict[key])\n",
    "    else:\n",
    "        print(\"Not present\")\n",
    "  \n",
    "# Driver Code\n",
    "dict = {'a': 100, 'b':200, 'c':300}\n",
    "  \n",
    "key = 'b'\n",
    "checkKey(dict, key)\n",
    "  \n",
    "key = 'w'\n",
    "checkKey(dict, key)"
   ]
  },
  {
   "cell_type": "code",
   "execution_count": 6,
   "metadata": {},
   "outputs": [
    {
     "name": "stdout",
     "output_type": "stream",
     "text": [
      "enter no.of records2\n",
      "enter key:2\n",
      "enter value:2\n",
      "enter key:2\n",
      "enter value:3\n",
      "enter key to check:3\n"
     ]
    }
   ],
   "source": [
    "dicty={}\n",
    "x=int(input(\"enter no.of records\"))\n",
    "for i in range(x):\n",
    "    key=input(\"enter key:\")\n",
    "    val=int(input(\"enter value:\"))\n",
    "    dicty[key]=val\n",
    "check=input(\"enter key to check:\")\n",
    "if check in dicty.keys():\n",
    "    print(f\"{check}={dicty[check]}\")"
   ]
  },
  {
   "cell_type": "code",
   "execution_count": 8,
   "metadata": {},
   "outputs": [
    {
     "name": "stdout",
     "output_type": "stream",
     "text": [
      "30\n"
     ]
    }
   ],
   "source": [
    "x=lambda a,b : a*b\n",
    "print(x(5,6))"
   ]
  },
  {
   "cell_type": "code",
   "execution_count": 9,
   "metadata": {},
   "outputs": [
    {
     "name": "stdout",
     "output_type": "stream",
     "text": [
      "enter no.of records3\n",
      "enter key:Hari\n",
      "enter value:23\n",
      "enter key:Rakesh\n",
      "enter value:22\n",
      "enter key:Ram\n",
      "enter value:2\n",
      "enter key to check:Hari\n",
      "Hari=23\n"
     ]
    }
   ],
   "source": [
    "dicty={}\n",
    "x=int(input(\"enter no.of records\"))\n",
    "for i in range(x):\n",
    "    key=input(\"enter key:\")\n",
    "    val=int(input(\"enter value:\"))\n",
    "    dicty[key]=val\n",
    "check=input(\"enter key to check:\")\n",
    "if check in dicty.keys():\n",
    "    print(f\"{check}={dicty[check]}\")"
   ]
  },
  {
   "cell_type": "code",
   "execution_count": 10,
   "metadata": {},
   "outputs": [
    {
     "name": "stdout",
     "output_type": "stream",
     "text": [
      "7\n"
     ]
    }
   ],
   "source": [
    "m= lambda a,b : a+b\n",
    "print(m(3,4))"
   ]
  },
  {
   "cell_type": "code",
   "execution_count": 11,
   "metadata": {},
   "outputs": [
    {
     "name": "stdout",
     "output_type": "stream",
     "text": [
      "Sorted List:\n",
      "[('Sst', 82), ('Eng', 88), ('Sci', 90), ('Maths', 97)]\n"
     ]
    }
   ],
   "source": [
    "dicto =  [('Eng', 88), ('Sci', 90), ('Maths', 97), ('Sst', 82)]\n",
    "dicto.sort(key = lambda x: x[1])\n",
    "print(\"Sorted List:\")\n",
    "print(dicto)"
   ]
  },
  {
   "cell_type": "code",
   "execution_count": 16,
   "metadata": {},
   "outputs": [
    {
     "name": "stdout",
     "output_type": "stream",
     "text": [
      "if is satisfied\n"
     ]
    }
   ],
   "source": [
    "def functn(a,b):\n",
    "    if(a==1):\n",
    "        print(\"if is satisfied\")\n",
    "    elif(b==1):\n",
    "        print(\" elif is satisfied\")\n",
    "    else:\n",
    "        print(\"No conditions are satisfied\")\n",
    "\n",
    "functn(1,5)"
   ]
  },
  {
   "cell_type": "code",
   "execution_count": 17,
   "metadata": {},
   "outputs": [
    {
     "name": "stdout",
     "output_type": "stream",
     "text": [
      "No conditions are satisfied\n"
     ]
    }
   ],
   "source": [
    "functn(8,6)"
   ]
  },
  {
   "cell_type": "code",
   "execution_count": 18,
   "metadata": {},
   "outputs": [
    {
     "name": "stdout",
     "output_type": "stream",
     "text": [
      " elif is satisfied\n"
     ]
    }
   ],
   "source": [
    "functn(3,1)"
   ]
  },
  {
   "cell_type": "code",
   "execution_count": 20,
   "metadata": {},
   "outputs": [
    {
     "name": "stdout",
     "output_type": "stream",
     "text": [
      "Name is:ram\n",
      "Roll no is:5\n",
      "Branch is:IT\n",
      "\n"
     ]
    }
   ],
   "source": [
    "def func(name='ram', roll_no=5,branch='IT'):\n",
    "    print('Name is:'+name)\n",
    "    print('Roll no is:'+str(roll_no))\n",
    "    print('Branch is:'+branch,end='\\n\\n')\n",
    "func()"
   ]
  },
  {
   "cell_type": "code",
   "execution_count": 21,
   "metadata": {},
   "outputs": [
    {
     "name": "stdout",
     "output_type": "stream",
     "text": [
      "Name is:Sam\n",
      "Roll no is:12\n",
      "Branch is:EEE\n",
      "\n"
     ]
    }
   ],
   "source": [
    "func('Sam',12,'EEE')"
   ]
  },
  {
   "cell_type": "code",
   "execution_count": 25,
   "metadata": {},
   "outputs": [
    {
     "name": "stdout",
     "output_type": "stream",
     "text": [
      "Name is:Anny\n",
      "Roll no is:5\n",
      "Branch is:IT\n",
      "\n"
     ]
    }
   ],
   "source": [
    "func('Anny',5)"
   ]
  },
  {
   "cell_type": "code",
   "execution_count": 30,
   "metadata": {},
   "outputs": [
    {
     "name": "stdout",
     "output_type": "stream",
     "text": [
      "66.0\n"
     ]
    }
   ],
   "source": [
    "def average_mark(a):\n",
    "    sub=mark=0\n",
    "    for i in a.values():\n",
    "        sub = sub + i[\"Mark\"][\"physics\"]\n",
    "        mark = mark+1\n",
    "    print(sub/mark)\n",
    "\n",
    "dict={1:{'name':'Ram','Mark':{'physics':56,'chemistry':78}},2:{'name':'Hari','Mark':{'physics':76,'chemistry':88}}}\n",
    "average_mark(dict)"
   ]
  },
  {
   "cell_type": "code",
   "execution_count": null,
   "metadata": {},
   "outputs": [],
   "source": []
  }
 ],
 "metadata": {
  "kernelspec": {
   "display_name": "Python 3",
   "language": "python",
   "name": "python3"
  },
  "language_info": {
   "codemirror_mode": {
    "name": "ipython",
    "version": 3
   },
   "file_extension": ".py",
   "mimetype": "text/x-python",
   "name": "python",
   "nbconvert_exporter": "python",
   "pygments_lexer": "ipython3",
   "version": "3.7.4"
  }
 },
 "nbformat": 4,
 "nbformat_minor": 2
}
