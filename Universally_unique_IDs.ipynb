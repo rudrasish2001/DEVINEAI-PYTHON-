{
  "nbformat": 4,
  "nbformat_minor": 0,
  "metadata": {
    "colab": {
      "name": "Universally unique IDs.ipynb",
      "provenance": [],
      "authorship_tag": "ABX9TyNXH7XnkKsWNGfTkTXvH/ql",
      "include_colab_link": true
    },
    "kernelspec": {
      "name": "python3",
      "display_name": "Python 3"
    },
    "language_info": {
      "name": "python"
    }
  },
  "cells": [
    {
      "cell_type": "markdown",
      "metadata": {
        "id": "view-in-github",
        "colab_type": "text"
      },
      "source": [
        "<a href=\"https://colab.research.google.com/github/SoumeshPattanaik/DivineAI/blob/main/Universally_unique_IDs.ipynb\" target=\"_parent\"><img src=\"https://colab.research.google.com/assets/colab-badge.svg\" alt=\"Open In Colab\"/></a>"
      ]
    },
    {
      "cell_type": "code",
      "metadata": {
        "colab": {
          "base_uri": "https://localhost:8080/"
        },
        "id": "UjUXpqnbbag2",
        "outputId": "0669c3f8-f8a8-44f4-bd35-2b61ced7aa61"
      },
      "source": [
        "# Generate random Universally unique IDs\n",
        "import uuid\n",
        "print(\"ID:\",uuid.uuid1())"
      ],
      "execution_count": 3,
      "outputs": [
        {
          "output_type": "stream",
          "text": [
            "ID: 46b99808-d6f5-11eb-95df-0242ac1c0002\n"
          ],
          "name": "stdout"
        }
      ]
    },
    {
      "cell_type": "code",
      "metadata": {
        "id": "eVhMy_sAcdah"
      },
      "source": [
        ""
      ],
      "execution_count": null,
      "outputs": []
    }
  ]
}