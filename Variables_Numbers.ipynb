{
  "nbformat": 4,
  "nbformat_minor": 0,
  "metadata": {
    "colab": {
      "name": "Variables-Numbers",
      "provenance": [],
      "authorship_tag": "ABX9TyPt2GAKmK+fw7cAXgkso59G",
      "include_colab_link": true
    },
    "kernelspec": {
      "name": "python3",
      "display_name": "Python 3"
    },
    "language_info": {
      "name": "python"
    }
  },
  "cells": [
    {
      "cell_type": "markdown",
      "metadata": {
        "id": "view-in-github",
        "colab_type": "text"
      },
      "source": [
        "<a href=\"https://colab.research.google.com/github/SoumeshPattanaik/DivineAI/blob/main/Variables_Numbers.ipynb\" target=\"_parent\"><img src=\"https://colab.research.google.com/assets/colab-badge.svg\" alt=\"Open In Colab\"/></a>"
      ]
    },
    {
      "cell_type": "code",
      "metadata": {
        "id": "QcRYtMIvbvLz"
      },
      "source": [
        "print(sys.version)"
      ],
      "execution_count": null,
      "outputs": []
    },
    {
      "cell_type": "code",
      "metadata": {
        "colab": {
          "base_uri": "https://localhost:8080/"
        },
        "id": "5kmuKpZQbznD",
        "outputId": "23dceb6a-0848-48e9-f256-3f0c1b3ff149"
      },
      "source": [
        "print('Hello from python')"
      ],
      "execution_count": 2,
      "outputs": [
        {
          "output_type": "stream",
          "text": [
            "Hello from python\n"
          ],
          "name": "stdout"
        }
      ]
    },
    {
      "cell_type": "code",
      "metadata": {
        "colab": {
          "base_uri": "https://localhost:8080/"
        },
        "id": "eTr3Z_O5cCeH",
        "outputId": "59c24fb1-4825-4742-cab1-4da6d68aada1"
      },
      "source": [
        "print(34)"
      ],
      "execution_count": 3,
      "outputs": [
        {
          "output_type": "stream",
          "text": [
            "34\n"
          ],
          "name": "stdout"
        }
      ]
    },
    {
      "cell_type": "code",
      "metadata": {
        "colab": {
          "base_uri": "https://localhost:8080/"
        },
        "id": "4U6h4OkrcG3-",
        "outputId": "8fd251a8-b323-4914-b62c-0e1757c65500"
      },
      "source": [
        "print(2+3)"
      ],
      "execution_count": 5,
      "outputs": [
        {
          "output_type": "stream",
          "text": [
            "5\n"
          ],
          "name": "stdout"
        }
      ]
    },
    {
      "cell_type": "code",
      "metadata": {
        "colab": {
          "base_uri": "https://localhost:8080/"
        },
        "id": "IV9AvB9-cKr3",
        "outputId": "3046453d-9d0e-4eaf-e6d2-b36b9b4d05be"
      },
      "source": [
        "print('The answer is:',56)"
      ],
      "execution_count": 6,
      "outputs": [
        {
          "output_type": "stream",
          "text": [
            "The answer is: 56\n"
          ],
          "name": "stdout"
        }
      ]
    },
    {
      "cell_type": "code",
      "metadata": {
        "colab": {
          "base_uri": "https://localhost:8080/"
        },
        "id": "Q08VjF5bcTBu",
        "outputId": "7503b4ab-4e58-4096-d5e8-5a07472828cf"
      },
      "source": [
        "x=3\n",
        "print(x)"
      ],
      "execution_count": 7,
      "outputs": [
        {
          "output_type": "stream",
          "text": [
            "3\n"
          ],
          "name": "stdout"
        }
      ]
    },
    {
      "cell_type": "code",
      "metadata": {
        "colab": {
          "base_uri": "https://localhost:8080/"
        },
        "id": "UEnIWYPucWCq",
        "outputId": "b8ba6754-6489-435f-9d4c-8cd7b23df7c0"
      },
      "source": [
        "name='Soumesh'\n",
        "print(name,'is his name')"
      ],
      "execution_count": 8,
      "outputs": [
        {
          "output_type": "stream",
          "text": [
            "Soumesh is his name\n"
          ],
          "name": "stdout"
        }
      ]
    },
    {
      "cell_type": "code",
      "metadata": {
        "colab": {
          "base_uri": "https://localhost:8080/"
        },
        "id": "EFyEU40rcd3l",
        "outputId": "df1ead45-e377-4d60-86c2-34839f6206f6"
      },
      "source": [
        "x=3\n",
        "x*3"
      ],
      "execution_count": 9,
      "outputs": [
        {
          "output_type": "execute_result",
          "data": {
            "text/plain": [
              "9"
            ]
          },
          "metadata": {
            "tags": []
          },
          "execution_count": 9
        }
      ]
    },
    {
      "cell_type": "code",
      "metadata": {
        "colab": {
          "base_uri": "https://localhost:8080/"
        },
        "id": "JCA2dVCHck1F",
        "outputId": "dd957c91-5dcd-4392-992e-9214f98cf148"
      },
      "source": [
        "i=-3\n",
        "j=10\n",
        "print(i,j)"
      ],
      "execution_count": 10,
      "outputs": [
        {
          "output_type": "stream",
          "text": [
            "-3 10\n"
          ],
          "name": "stdout"
        }
      ]
    },
    {
      "cell_type": "code",
      "metadata": {
        "id": "vILPPLD3cwTi"
      },
      "source": [
        "m=1.5e3\n",
        "n=3e-2"
      ],
      "execution_count": 11,
      "outputs": []
    },
    {
      "cell_type": "code",
      "metadata": {
        "colab": {
          "base_uri": "https://localhost:8080/"
        },
        "id": "g9zNRvD0c8RU",
        "outputId": "064edb7e-065e-4583-81ec-b6b68dab31b0"
      },
      "source": [
        "print(m,n)"
      ],
      "execution_count": 12,
      "outputs": [
        {
          "output_type": "stream",
          "text": [
            "1500.0 0.03\n"
          ],
          "name": "stdout"
        }
      ]
    },
    {
      "cell_type": "code",
      "metadata": {
        "colab": {
          "base_uri": "https://localhost:8080/"
        },
        "id": "sitIMJhrc-SB",
        "outputId": "d2236cd6-71e5-4c7c-fadd-983caed6a835"
      },
      "source": [
        "a=1\n",
        "print(a,'is off',type(a))"
      ],
      "execution_count": 13,
      "outputs": [
        {
          "output_type": "stream",
          "text": [
            "1 is off <class 'int'>\n"
          ],
          "name": "stdout"
        }
      ]
    },
    {
      "cell_type": "code",
      "metadata": {
        "colab": {
          "base_uri": "https://localhost:8080/"
        },
        "id": "oAGZlvFedM3w",
        "outputId": "ada00dc5-d8ee-48a8-f10f-9946dbeed9aa"
      },
      "source": [
        "a=True\n",
        "print(a,'is off',type(a))"
      ],
      "execution_count": 15,
      "outputs": [
        {
          "output_type": "stream",
          "text": [
            "True is off <class 'bool'>\n"
          ],
          "name": "stdout"
        }
      ]
    },
    {
      "cell_type": "code",
      "metadata": {
        "colab": {
          "base_uri": "https://localhost:8080/"
        },
        "id": "4hFqWvtKdUK7",
        "outputId": "bb9c68ed-ce31-4652-e204-59700931c7cd"
      },
      "source": [
        "a=None\n",
        "print(a,'is off',type(a))"
      ],
      "execution_count": 16,
      "outputs": [
        {
          "output_type": "stream",
          "text": [
            "None is off <class 'NoneType'>\n"
          ],
          "name": "stdout"
        }
      ]
    },
    {
      "cell_type": "code",
      "metadata": {
        "colab": {
          "base_uri": "https://localhost:8080/"
        },
        "id": "kKRWQ0GHdcnc",
        "outputId": "5d884678-52e0-450d-8a61-8812c8d44650"
      },
      "source": [
        "float(15+3)"
      ],
      "execution_count": 17,
      "outputs": [
        {
          "output_type": "execute_result",
          "data": {
            "text/plain": [
              "18.0"
            ]
          },
          "metadata": {
            "tags": []
          },
          "execution_count": 17
        }
      ]
    },
    {
      "cell_type": "code",
      "metadata": {
        "colab": {
          "base_uri": "https://localhost:8080/"
        },
        "id": "3SnAp7Cudlwm",
        "outputId": "63821ee2-4be0-4530-b1ce-5cb7b245c87e"
      },
      "source": [
        "int(2.5-1)"
      ],
      "execution_count": 18,
      "outputs": [
        {
          "output_type": "execute_result",
          "data": {
            "text/plain": [
              "1"
            ]
          },
          "metadata": {
            "tags": []
          },
          "execution_count": 18
        }
      ]
    },
    {
      "cell_type": "code",
      "metadata": {
        "colab": {
          "base_uri": "https://localhost:8080/"
        },
        "id": "0-WvgrTXdpc7",
        "outputId": "bf67d6a1-634d-4dd3-dceb-f40daafb96bb"
      },
      "source": [
        "print('number' + str(3))"
      ],
      "execution_count": 19,
      "outputs": [
        {
          "output_type": "stream",
          "text": [
            "number3\n"
          ],
          "name": "stdout"
        }
      ]
    },
    {
      "cell_type": "code",
      "metadata": {
        "colab": {
          "base_uri": "https://localhost:8080/"
        },
        "id": "rdsrc2Q9d59v",
        "outputId": "ad80e01c-2d11-4015-ad88-f0ebc20f5053"
      },
      "source": [
        "print('number' + str(' Hello'))"
      ],
      "execution_count": 22,
      "outputs": [
        {
          "output_type": "stream",
          "text": [
            "number Hello\n"
          ],
          "name": "stdout"
        }
      ]
    },
    {
      "cell_type": "code",
      "metadata": {
        "id": "DO3H4Ka7d982"
      },
      "source": [
        ""
      ],
      "execution_count": null,
      "outputs": []
    }
  ]
}