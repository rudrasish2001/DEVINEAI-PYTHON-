{
 "cells": [
  {
   "cell_type": "code",
   "execution_count": 1,
   "metadata": {},
   "outputs": [
    {
     "name": "stdout",
     "output_type": "stream",
     "text": [
      "lesson\n",
      "\n",
      "Now\n",
      "\n"
     ]
    }
   ],
   "source": [
    "def get_word(sentence, n):\n",
    "    if n>0:\n",
    "        words=sentence.split()\n",
    "        if n<=len(words):\n",
    "            return words[n-1]\n",
    "    return (\"\")\n",
    "print(get_word(\"This is a lesson about lists\",   4))\n",
    "print(get_word(\"This is a lesson about lists\",  -4))\n",
    "print(get_word(\"Now we are cooking!\",   1))\n",
    "print(get_word(\"Now we are cooking!\",  -1))"
   ]
  },
  {
   "cell_type": "code",
   "execution_count": 5,
   "metadata": {},
   "outputs": [
    {
     "name": "stdout",
     "output_type": "stream",
     "text": [
      "Distance in km:12\n",
      "12.00 kilometers is equal to 7.46 miles\n"
     ]
    }
   ],
   "source": [
    "#Python Program to Convert Kilometers to Miles\n",
    "km= float(input(\"Distance in km:\"))\n",
    "conv_factor=0.621371    \n",
    "miles=km * conv_factor\n",
    "print(\"%0.2f kilometers is equal to %0.2f miles\"%(km, miles))"
   ]
  },
  {
   "cell_type": "code",
   "execution_count": 6,
   "metadata": {},
   "outputs": [
    {
     "name": "stdout",
     "output_type": "stream",
     "text": [
      "Temperature in celsius:37\n",
      "37.00 Celsius is equal to 98.60 Fahrenheit\n"
     ]
    }
   ],
   "source": [
    "#Python Program to Convert Celsius To Fahrenheit\n",
    "celsius=float(input(\"Temperature in celsius:\"))\n",
    "fahrenheit= (celsius * 1.8) +32\n",
    "print(\"%0.2f Celsius is equal to %0.2f Fahrenheit\"%(celsius,fahrenheit))"
   ]
  },
  {
   "cell_type": "code",
   "execution_count": 12,
   "metadata": {},
   "outputs": [
    {
     "name": "stdout",
     "output_type": "stream",
     "text": [
      "Enter a Number:12\n",
      "It is positive\n"
     ]
    }
   ],
   "source": [
    "#Python Program to Check if a Number is Positive, Negative or 0\n",
    "number=int(input(\"Enter a Number:\"))\n",
    "if number>0:\n",
    "    print(\"It is positive\")\n",
    "elif number<0:\n",
    "    print(\"It is negative\")\n",
    "elif number==0:\n",
    "    print(\"It is zero\")"
   ]
  },
  {
   "cell_type": "code",
   "execution_count": 13,
   "metadata": {},
   "outputs": [
    {
     "name": "stdout",
     "output_type": "stream",
     "text": [
      "Enter a Number:-12\n",
      "It is negative\n"
     ]
    }
   ],
   "source": [
    "number=int(input(\"Enter a Number:\"))\n",
    "if number>0:\n",
    "    print(\"It is positive\")\n",
    "elif number<0:\n",
    "    print(\"It is negative\")\n",
    "elif number==0:\n",
    "    print(\"It is zero\")"
   ]
  },
  {
   "cell_type": "code",
   "execution_count": 11,
   "metadata": {},
   "outputs": [
    {
     "name": "stdout",
     "output_type": "stream",
     "text": [
      "Enter a Number:0\n",
      "It is zero\n"
     ]
    }
   ],
   "source": [
    "number=int(input(\"Enter a Number:\"))\n",
    "if number>0:\n",
    "    print(\"It is positive\")\n",
    "elif number<0:\n",
    "    print(\"It is negative\")\n",
    "elif number==0:\n",
    "    print(\"It is zero\")"
   ]
  },
  {
   "cell_type": "code",
   "execution_count": 17,
   "metadata": {},
   "outputs": [
    {
     "name": "stdout",
     "output_type": "stream",
     "text": [
      "Enter the number:12\n",
      "The number is Even \n"
     ]
    }
   ],
   "source": [
    "#Python Program to Check if a Number is Odd or Even\n",
    "number=int(input(\"Enter the number:\"))\n",
    "if number%2 == 0:\n",
    "    print(\"The number is Even \")\n",
    "elif number%2 != 0:\n",
    "    print(\"The number is Odd\")"
   ]
  },
  {
   "cell_type": "code",
   "execution_count": 25,
   "metadata": {},
   "outputs": [
    {
     "name": "stdout",
     "output_type": "stream",
     "text": [
      "Enter the Year:1840\n",
      "It is a leap year\n"
     ]
    }
   ],
   "source": [
    "#Python Program to Check Leap Year\n",
    "year=int(input(\"Enter the Year:\"))\n",
    "if year%4 == 0:\n",
    "    print(\"It is a leap year\")\n",
    "else:\n",
    "    print(\"It is not a leap year\")\n",
    "    if year%100 ==0:\n",
    "        if year%400 ==0:\n",
    "            print(\"It is a leap year\")\n",
    "        else:\n",
    "            print(\"It is not a leap year\")\n",
    "            "
   ]
  },
  {
   "cell_type": "code",
   "execution_count": null,
   "metadata": {},
   "outputs": [],
   "source": []
  }
 ],
 "metadata": {
  "kernelspec": {
   "display_name": "Python 3",
   "language": "python",
   "name": "python3"
  },
  "language_info": {
   "codemirror_mode": {
    "name": "ipython",
    "version": 3
   },
   "file_extension": ".py",
   "mimetype": "text/x-python",
   "name": "python",
   "nbconvert_exporter": "python",
   "pygments_lexer": "ipython3",
   "version": "3.7.4"
  }
 },
 "nbformat": 4,
 "nbformat_minor": 2
}
