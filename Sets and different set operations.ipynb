{
 "cells": [
  {
   "cell_type": "code",
   "execution_count": 1,
   "metadata": {},
   "outputs": [
    {
     "name": "stdout",
     "output_type": "stream",
     "text": [
      "Union of A and B is {0, 1, 2, 3, 4, 5, 6, 8}\n",
      "Intersection of A and B is {2, 4}\n",
      "Difference of A and B is {0, 8, 6}\n",
      "Symmetric difference of A and B is {0, 1, 3, 5, 6, 8}\n"
     ]
    }
   ],
   "source": [
    "A = {0, 2, 4, 6, 8};\n",
    "B = {1, 2, 3, 4, 5};\n",
    "print(\"Union of A and B is\",A | B)\n",
    "print(\"Intersection of A and B is\",A & B)\n",
    "print(\"Difference of A and B is\",A - B)\n",
    "print(\"Symmetric difference of A and B is\",A ^ B)"
   ]
  }
 ],
 "metadata": {
  "kernelspec": {
   "display_name": "Python 3",
   "language": "python",
   "name": "python3"
  },
  "language_info": {
   "codemirror_mode": {
    "name": "ipython",
    "version": 3
   },
   "file_extension": ".py",
   "mimetype": "text/x-python",
   "name": "python",
   "nbconvert_exporter": "python",
   "pygments_lexer": "ipython3",
   "version": "3.8.5"
  }
 },
 "nbformat": 4,
 "nbformat_minor": 4
}
