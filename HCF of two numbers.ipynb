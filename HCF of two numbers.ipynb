{
 "cells": [
  {
   "cell_type": "code",
   "execution_count": 19,
   "metadata": {},
   "outputs": [
    {
     "name": "stdout",
     "output_type": "stream",
     "text": [
      "enter 1st number:4\n",
      "enter 2nd number:6\n",
      "factors of 1st number are [1, 2, 4] factors of 2nd number are [1, 2, 3, 6]\n",
      "common factors are {1, 2}\n",
      "HCF is 2\n"
     ]
    }
   ],
   "source": [
    "num1=int(input(\"enter 1st number:\"))\n",
    "num2=int(input(\"enter 2nd number:\"))\n",
    "fact1=[]\n",
    "fact2=[]\n",
    "for i in range(1,int(num1/2)+1):\n",
    "    if num1%i==0:\n",
    "        fact1.append(i)\n",
    "fact1.append(num1)\n",
    "for i in range(1,int(num2/2)+1):\n",
    "    if num2%i==0:\n",
    "        fact2.append(i)\n",
    "fact2.append(num2)\n",
    "print(f\"factors of 1st number are {fact1} factors of 2nd number are {fact2}\")\n",
    "common_set=set()\n",
    "for i in fact1:\n",
    "    if i in fact2:\n",
    "        common_set.add(i)\n",
    "#maxx=common_set(0)\n",
    "# for i in common_set:\n",
    "#     if max<i:\n",
    "#         max=i\n",
    "print(f\"common factors are {common_set}\")\n",
    "print(f\"HCF is {max(common_set)}\")"
   ]
  },
  {
   "cell_type": "code",
   "execution_count": null,
   "metadata": {},
   "outputs": [],
   "source": []
  }
 ],
 "metadata": {
  "kernelspec": {
   "display_name": "Python 3",
   "language": "python",
   "name": "python3"
  },
  "language_info": {
   "codemirror_mode": {
    "name": "ipython",
    "version": 3
   },
   "file_extension": ".py",
   "mimetype": "text/x-python",
   "name": "python",
   "nbconvert_exporter": "python",
   "pygments_lexer": "ipython3",
   "version": "3.8.5"
  }
 },
 "nbformat": 4,
 "nbformat_minor": 4
}
