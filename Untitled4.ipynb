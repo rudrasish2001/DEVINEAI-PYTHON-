{
  "nbformat": 4,
  "nbformat_minor": 0,
  "metadata": {
    "colab": {
      "name": "Untitled4.ipynb",
      "provenance": [],
      "authorship_tag": "ABX9TyP6B3TjYkIPEPh4hQ3kMebJ",
      "include_colab_link": true
    },
    "kernelspec": {
      "name": "python3",
      "display_name": "Python 3"
    },
    "language_info": {
      "name": "python"
    }
  },
  "cells": [
    {
      "cell_type": "markdown",
      "metadata": {
        "id": "view-in-github",
        "colab_type": "text"
      },
      "source": [
        "<a href=\"https://colab.research.google.com/github/SoumeshPattanaik/DivineAI/blob/main/Untitled4.ipynb\" target=\"_parent\"><img src=\"https://colab.research.google.com/assets/colab-badge.svg\" alt=\"Open In Colab\"/></a>"
      ]
    },
    {
      "cell_type": "code",
      "metadata": {
        "colab": {
          "base_uri": "https://localhost:8080/"
        },
        "id": "NVIm2A-_ZkI5",
        "outputId": "7e6cc122-bfe8-4d5a-d046-9701c1fe0e6b"
      },
      "source": [
        "# Arrange string characters such that lowercase letters should come first\n",
        "str = 'PUhghTQnmjs'\n",
        "lower = []\n",
        "upper = []\n",
        "for char in str:\n",
        "  if char.islower():\n",
        "    lower.append(char)\n",
        "  else:\n",
        "    upper.append(char)\n",
        "sorted_string = ''.join(lower + upper)\n",
        "print(sorted_string)"
      ],
      "execution_count": 1,
      "outputs": [
        {
          "output_type": "stream",
          "text": [
            "hghnmjsPUTQ\n"
          ],
          "name": "stdout"
        }
      ]
    },
    {
      "cell_type": "code",
      "metadata": {
        "id": "erj2txLAax_P"
      },
      "source": [
        ""
      ],
      "execution_count": null,
      "outputs": []
    }
  ]
}