{
  "nbformat": 4,
  "nbformat_minor": 0,
  "metadata": {
    "colab": {
      "name": "Sum of Natural Numbers Using Recursion",
      "provenance": [],
      "authorship_tag": "ABX9TyNAoI+V4e2khSERX6y3E1uD",
      "include_colab_link": true
    },
    "kernelspec": {
      "name": "python3",
      "display_name": "Python 3"
    },
    "language_info": {
      "name": "python"
    }
  },
  "cells": [
    {
      "cell_type": "markdown",
      "metadata": {
        "id": "view-in-github",
        "colab_type": "text"
      },
      "source": [
        "<a href=\"https://colab.research.google.com/github/SoumeshPattanaik/DivineAI/blob/main/Sum_of_Natural_Numbers_Using_Recursion.ipynb\" target=\"_parent\"><img src=\"https://colab.research.google.com/assets/colab-badge.svg\" alt=\"Open In Colab\"/></a>"
      ]
    },
    {
      "cell_type": "code",
      "metadata": {
        "colab": {
          "base_uri": "https://localhost:8080/"
        },
        "id": "ESnL6fiR5vFU",
        "outputId": "b535f525-3c89-4e6c-c72a-eed343cff180"
      },
      "source": [
        "# Python Program to Find Sum of Natural Numbers Using Recursion\n",
        "def recur_sum(n):\n",
        "  if n<=1:\n",
        "    return n\n",
        "  else:\n",
        "    return n + recur_sum(n-1)\n",
        "x=int(input(\"Enter a natural number \"))\n",
        "if x<0:\n",
        "  print(\"Enter a positive number \")\n",
        "else:\n",
        "  print(\"The sum is:\",recur_sum(x))"
      ],
      "execution_count": 3,
      "outputs": [
        {
          "output_type": "stream",
          "text": [
            "Enter a natural number -5\n",
            "Enter a positive number \n"
          ],
          "name": "stdout"
        }
      ]
    },
    {
      "cell_type": "code",
      "metadata": {
        "id": "w3AUbbYy6Yuo"
      },
      "source": [
        ""
      ],
      "execution_count": null,
      "outputs": []
    }
  ]
}