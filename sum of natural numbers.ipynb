{
 "cells": [
  {
   "cell_type": "code",
   "execution_count": 18,
   "metadata": {},
   "outputs": [
    {
     "name": "stdout",
     "output_type": "stream",
     "text": [
      "enter range:10\n",
      "sum of 10 natural numbers is 55\n"
     ]
    }
   ],
   "source": [
    "#sum of natural numbers\n",
    "n=int(input(\"enter range:\"))\n",
    "sum1=int(n*(n+1)/2)\n",
    "print(f\"sum of {n} natural numbers is {sum1}\")"
   ]
  }
 ],
 "metadata": {
  "kernelspec": {
   "display_name": "Python 3",
   "language": "python",
   "name": "python3"
  },
  "language_info": {
   "codemirror_mode": {
    "name": "ipython",
    "version": 3
   },
   "file_extension": ".py",
   "mimetype": "text/x-python",
   "name": "python",
   "nbconvert_exporter": "python",
   "pygments_lexer": "ipython3",
   "version": "3.8.5"
  }
 },
 "nbformat": 4,
 "nbformat_minor": 4
}
