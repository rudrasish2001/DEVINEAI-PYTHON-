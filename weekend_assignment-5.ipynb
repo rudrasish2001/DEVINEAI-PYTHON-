{
 "cells": [
  {
   "cell_type": "code",
   "execution_count": 13,
   "metadata": {},
   "outputs": [
    {
     "name": "stdout",
     "output_type": "stream",
     "text": [
      "78\n",
      "COS OF THE ANGLE IS: -0.8578030932449878\n"
     ]
    }
   ],
   "source": [
    "#python function for finding cosine angle\n",
    "import math\n",
    "angle = float(input())\n",
    "print(\"COS OF THE ANGLE IS:\",math.cos(angle))"
   ]
  },
  {
   "cell_type": "code",
   "execution_count": 12,
   "metadata": {},
   "outputs": [
    {
     "name": "stdout",
     "output_type": "stream",
     "text": [
      "python exercises practice solution\n",
      "AFTER REMOVING ALL THE DUPLICATES:\n",
      " python exrcisalu\n"
     ]
    }
   ],
   "source": [
    "#write a Python function to Remove all duplicates from a given string\n",
    "from collections import OrderedDict\n",
    "def remove_duplicate(str1):\n",
    "  return \"\".join(OrderedDict.fromkeys(str1))\n",
    "x= str(input())\n",
    "     \n",
    "print(\"AFTER REMOVING ALL THE DUPLICATES:\\n\",remove_duplicate(x))"
   ]
  },
  {
   "cell_type": "code",
   "execution_count": 20,
   "metadata": {},
   "outputs": [
    {
     "name": "stdout",
     "output_type": "stream",
     "text": [
      "9.0\n",
      "3:18\n"
     ]
    }
   ],
   "source": [
    "#python function to print all time when angle between hour hand and minute hand is theta \n",
    "def calcAngle(hh, mm):\n",
    "    hour_angle = 0.5 * (hh * 60 + mm)\n",
    "    minute_angle = 6 * mm\n",
    "    angle = abs(hour_angle - minute_angle)\n",
    "    angle = min(360 - angle, angle)\n",
    "    return angle\n",
    "\n",
    "def printTime(theta):\n",
    "    for hh in range(0, 12):\n",
    "        for mm in range(0, 60):\n",
    "            if (calcAngle(hh, mm)==theta):\n",
    "                print(hh, \":\", mm, sep = \"\")\n",
    "                return\n",
    "             \n",
    "    print(\"Input angle not valid.\")\n",
    "    return\n",
    " \n",
    "theta = float(input())\n",
    "printTime(theta)"
   ]
  },
  {
   "cell_type": "code",
   "execution_count": 24,
   "metadata": {},
   "outputs": [
    {
     "name": "stdout",
     "output_type": "stream",
     "text": [
      "12\n",
      "34\n",
      "THE ANGLE BETWEEN THE HAND'S IS: 173 '\n"
     ]
    }
   ],
   "source": [
    "# Function to compute the angle between the hour and minute hand\n",
    "def findAngle(hour, min):\n",
    "    h = (hour * 360) // 12 + (min * 360) // (12 * 60)\n",
    "    m = (min * 360) // (60)\n",
    "    angle = abs(h - m)\n",
    "    \n",
    "    \n",
    "    if angle > 180:\n",
    "        angle = 360 - angle\n",
    " \n",
    "    return angle\n",
    "\n",
    "if __name__ == '__main__':\n",
    " \n",
    "    hour = int(input())\n",
    "    min =  int(input())\n",
    " \n",
    "    print(\"THE ANGLE BETWEEN THE HAND'S IS:\",findAngle(hour, min),\"'\")\n",
    " "
   ]
  },
  {
   "cell_type": "code",
   "execution_count": 26,
   "metadata": {},
   "outputs": [
    {
     "name": "stdout",
     "output_type": "stream",
     "text": [
      "Move disk 1 from source A to destination C\n",
      "Move disk 2 from source A to destination B\n",
      "Move disk 1 from source C to destination B\n",
      "Move disk 3 from source A to destination C\n",
      "Move disk 1 from source B to destination A\n",
      "Move disk 2 from source B to destination C\n",
      "Move disk 1 from source A to destination C\n",
      "Move disk 4 from source A to destination B\n",
      "Move disk 1 from source C to destination B\n",
      "Move disk 2 from source C to destination A\n",
      "Move disk 1 from source B to destination A\n",
      "Move disk 3 from source C to destination B\n",
      "Move disk 1 from source A to destination C\n",
      "Move disk 2 from source A to destination B\n",
      "Move disk 1 from source C to destination B\n"
     ]
    }
   ],
   "source": [
    "#Recursive Python function to solve the tower of hanoi  \n",
    "def TowerOfHanoi(n , source, destination, auxiliary):\n",
    "    if n==1:\n",
    "        print(\"Move disk 1 from source\",source,\"to destination\",destination)\n",
    "        return\n",
    "    TowerOfHanoi(n-1, source, auxiliary, destination)\n",
    "    print(\"Move disk\",n,\"from source\",source,\"to destination\",destination)\n",
    "    TowerOfHanoi(n-1, auxiliary, destination, source)\n",
    "          \n",
    "n = 4\n",
    "TowerOfHanoi(n,'A','B','C') "
   ]
  },
  {
   "cell_type": "code",
   "execution_count": null,
   "metadata": {},
   "outputs": [],
   "source": []
  }
 ],
 "metadata": {
  "kernelspec": {
   "display_name": "Python 3",
   "language": "python",
   "name": "python3"
  },
  "language_info": {
   "codemirror_mode": {
    "name": "ipython",
    "version": 3
   },
   "file_extension": ".py",
   "mimetype": "text/x-python",
   "name": "python",
   "nbconvert_exporter": "python",
   "pygments_lexer": "ipython3",
   "version": "3.7.4"
  }
 },
 "nbformat": 4,
 "nbformat_minor": 2
}
