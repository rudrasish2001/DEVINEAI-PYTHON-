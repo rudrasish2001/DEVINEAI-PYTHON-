{
  "nbformat": 4,
  "nbformat_minor": 0,
  "metadata": {
    "colab": {
      "name": "Reminder of two number.ipynb",
      "provenance": [],
      "authorship_tag": "ABX9TyNiBn6n0aJposHs2pfAN/Ej",
      "include_colab_link": true
    },
    "kernelspec": {
      "name": "python3",
      "display_name": "Python 3"
    },
    "language_info": {
      "name": "python"
    }
  },
  "cells": [
    {
      "cell_type": "markdown",
      "metadata": {
        "id": "view-in-github",
        "colab_type": "text"
      },
      "source": [
        "<a href=\"https://colab.research.google.com/github/SoumeshPattanaik/DivineAI/blob/main/Reminder_of_two_number.ipynb\" target=\"_parent\"><img src=\"https://colab.research.google.com/assets/colab-badge.svg\" alt=\"Open In Colab\"/></a>"
      ]
    },
    {
      "cell_type": "code",
      "metadata": {
        "colab": {
          "base_uri": "https://localhost:8080/"
        },
        "id": "1u6Yh7DlFbmE",
        "outputId": "7b85c6c6-85d6-4245-9652-d53c333e309c"
      },
      "source": [
        "# Write a program to find and print the remainder of two number\n",
        "num1=int(input(\"Enter value for number1:\"))\n",
        "num2=int(input(\"Enter value for number2:\"))\n",
        "print(\"Result:\",num1%num2)"
      ],
      "execution_count": 2,
      "outputs": [
        {
          "output_type": "stream",
          "text": [
            "Enter value for number1:286\n",
            "Enter value for number2:51\n",
            "Result: 31\n"
          ],
          "name": "stdout"
        }
      ]
    },
    {
      "cell_type": "code",
      "metadata": {
        "id": "3S0iTxOFFuwn"
      },
      "source": [
        ""
      ],
      "execution_count": null,
      "outputs": []
    }
  ]
}