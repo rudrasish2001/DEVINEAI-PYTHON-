{
 "cells": [
  {
   "cell_type": "code",
   "execution_count": 100,
   "metadata": {},
   "outputs": [
    {
     "name": "stdout",
     "output_type": "stream",
     "text": [
      "enter a number:9\n",
      "0 1 1 2 3 5 8 13 21 "
     ]
    }
   ],
   "source": [
    "def fibonacci(num,x,y,summ):\n",
    "    if num==0:\n",
    "        return\n",
    "    else:\n",
    "        print(x,end=' ')\n",
    "        summ=x+y\n",
    "        x=y\n",
    "        y=summ\n",
    "        num-=1 \n",
    "        fibonacci(num,x,y,summ)\n",
    "    \n",
    "num1=int(input(\"enter a number:\"))\n",
    "x=0\n",
    "y=1\n",
    "summ=0\n",
    "fibonacci(num1,x,y,summ)"
   ]
  },
  {
   "cell_type": "code",
   "execution_count": null,
   "metadata": {},
   "outputs": [],
   "source": []
  }
 ],
 "metadata": {
  "kernelspec": {
   "display_name": "Python 3",
   "language": "python",
   "name": "python3"
  },
  "language_info": {
   "codemirror_mode": {
    "name": "ipython",
    "version": 3
   },
   "file_extension": ".py",
   "mimetype": "text/x-python",
   "name": "python",
   "nbconvert_exporter": "python",
   "pygments_lexer": "ipython3",
   "version": "3.8.5"
  }
 },
 "nbformat": 4,
 "nbformat_minor": 4
}
