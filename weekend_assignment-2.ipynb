{
 "cells": [
  {
   "cell_type": "code",
   "execution_count": 2,
   "id": "810f7f75",
   "metadata": {},
   "outputs": [
    {
     "name": "stdout",
     "output_type": "stream",
     "text": [
      "Enter a Number345\n",
      "Result: 216\n"
     ]
    }
   ],
   "source": [
    "# Find the sum of the cube of each digit\n",
    "\n",
    "num=int(input(\"Enter a Number\"))\n",
    "sum=0\n",
    "temp=num\n",
    "while(temp!=0):\n",
    "    rem=temp%10\n",
    "    sum+=rem**3\n",
    "    temp//=10\n",
    "print(\"Result:\",sum)"
   ]
  },
  {
   "cell_type": "code",
   "execution_count": 13,
   "id": "f47d1f02",
   "metadata": {},
   "outputs": [
    {
     "name": "stdout",
     "output_type": "stream",
     "text": [
      "Enter lower limit of the range: 100\n",
      "Enter lower upper of the range: 1000\n",
      "153\n",
      "370\n",
      "371\n",
      "407\n"
     ]
    }
   ],
   "source": [
    "#Python Program to Find Armstrong Number in an Interval\n",
    "\n",
    "low=int(input(\"Enter lower limit of the range: \"))\n",
    "up=int(input(\"Enter lower upper of the range: \"))\n",
    "\n",
    "\n",
    "for i in range(low,up+1):\n",
    "    temp=i\n",
    "    sum=0\n",
    "    order = len(str(i))\n",
    "    while temp>0:\n",
    "        rem=temp%10\n",
    "        sum+=rem**order\n",
    "        temp//=10\n",
    "    if(i==sum):\n",
    "        print(i)\n",
    "    "
   ]
  },
  {
   "cell_type": "code",
   "execution_count": 16,
   "id": "a5ec2944",
   "metadata": {},
   "outputs": [
    {
     "name": "stdout",
     "output_type": "stream",
     "text": [
      "Enter a Number 4.76\n",
      "22.6576\n"
     ]
    }
   ],
   "source": [
    "#Python Program To Display Powers of 2 Using Anonymous Function\n",
    "\n",
    "x=float(input(\"Enter a Number \"))\n",
    "power=lambda x:x**2\n",
    "print(power(x))"
   ]
  },
  {
   "cell_type": "code",
   "execution_count": 20,
   "id": "b37168a8",
   "metadata": {},
   "outputs": [
    {
     "name": "stdout",
     "output_type": "stream",
     "text": [
      "Enter a number 59\n",
      "Numbers which are divisible with  59\n",
      "1\n",
      "59\n"
     ]
    }
   ],
   "source": [
    "#Python Program to Find Numbers Divisible by Another Number\n",
    "\n",
    "n=int(input(\"Enter a number \"))\n",
    "print(\"Numbers which are divisible with \",n)\n",
    "for i in range(1,n+1):\n",
    "    if(n%i==0):\n",
    "        print(i)"
   ]
  },
  {
   "cell_type": "code",
   "execution_count": 21,
   "id": "fe023fa7",
   "metadata": {},
   "outputs": [
    {
     "name": "stdout",
     "output_type": "stream",
     "text": [
      "Enter a Number4\n",
      "100"
     ]
    }
   ],
   "source": [
    "#Python Program to Convert Decimal to Binary\n",
    "\n",
    "def convertToBinary(n):\n",
    "    if n>1:\n",
    "        convertToBinary(n//2)\n",
    "    print(n%2,end='')\n",
    "    \n",
    "dec=int(input(\"Enter a Number\"))\n",
    "convertToBinary(dec)"
   ]
  },
  {
   "cell_type": "code",
   "execution_count": 26,
   "id": "b734cb1f",
   "metadata": {},
   "outputs": [
    {
     "name": "stdout",
     "output_type": "stream",
     "text": [
      "Enter a charcter t\n",
      "The ASCII value of 't' is 116\n"
     ]
    }
   ],
   "source": [
    "#Python Program to Find ASCII Value of Character\n",
    "\n",
    "c = input('Enter a charcter ')\n",
    "print(\"The ASCII value of '\" + c + \"' is\", ord(c))"
   ]
  },
  {
   "cell_type": "code",
   "execution_count": 9,
   "id": "9f1a62ed",
   "metadata": {},
   "outputs": [
    {
     "name": "stdout",
     "output_type": "stream",
     "text": [
      "Enter a number: 54\n",
      "Enter a number: 24\n",
      "H.C.F of 54 and 24 is 6\n"
     ]
    }
   ],
   "source": [
    "#Python Program to Find HCF or GCD\n",
    "\n",
    "num1=int(input(\"Enter a number: \"))\n",
    "num2=int(input(\"Enter a number: \"))\n",
    "if num1>num2:\n",
    "    small=num2\n",
    "else:\n",
    "    small=num1\n",
    "for i in range(1,small+1):\n",
    "    if(num1%i==0 and num2%i==0):\n",
    "        hcf=i\n",
    "print(\"H.C.F of {} and {} is\".format(num1,num2),hcf)"
   ]
  },
  {
   "cell_type": "code",
   "execution_count": 8,
   "id": "2f1833ac",
   "metadata": {},
   "outputs": [
    {
     "name": "stdout",
     "output_type": "stream",
     "text": [
      "Enter a number: 54\n",
      "Enter a number: 24\n",
      "H.C.F of 54 and 24 is 6\n"
     ]
    }
   ],
   "source": [
    "#Write a python function to find HCf or GCD and return the value\n",
    "\n",
    "def find_hcf(x,y):\n",
    "    num1=int(input(\"Enter a number: \"))\n",
    "    num2=int(input(\"Enter a number: \"))\n",
    "    if x>y:\n",
    "        small=y\n",
    "    else:\n",
    "        small=x\n",
    "    for i in range(1,small+1):\n",
    "        if(x%i==0 and y%i==0):\n",
    "            hcf=i\n",
    "find_hcf(num1,num2)\n",
    "print(\"H.C.F of {} and {} is\".format(num1,num2),hcf)\n",
    "    "
   ]
  },
  {
   "cell_type": "code",
   "execution_count": 11,
   "id": "81d675d9",
   "metadata": {},
   "outputs": [
    {
     "name": "stdout",
     "output_type": "stream",
     "text": [
      "Enter a number: 54\n",
      "Enter a number: 24\n",
      "H.C.F of 54 and 24 is 6\n"
     ]
    }
   ],
   "source": [
    "#Write a python function to find HCf or GCD and return the value using euclidian Algorithm\n",
    "\n",
    "def find_hcf(x,y):\n",
    "    while(y):\n",
    "        x,y=y,x%y\n",
    "    return x\n",
    "x=int(input(\"Enter a number: \"))\n",
    "y=int(input(\"Enter a number: \"))\n",
    "hcf=find_hcf(x,y)\n",
    "print(\"H.C.F of {} and {} is\".format(num1,num2),hcf)"
   ]
  },
  {
   "cell_type": "code",
   "execution_count": null,
   "id": "2b4e7103",
   "metadata": {},
   "outputs": [
    {
     "name": "stdout",
     "output_type": "stream",
     "text": [
      "Select Operation\n",
      "1.Addition\n",
      "2.Subtraction\n",
      "3.Multiplication\n",
      "4.Division \n",
      "Enter Choice 1/2/3/4 8\n",
      "Error!! 8 is invalid input.Enter valid input \n",
      "Enter Choice 1/2/3/4 yjgj\n",
      "Error!! yjgj is invalid input.Enter valid input \n"
     ]
    }
   ],
   "source": [
    "# Program make a simple calculator\n",
    "\n",
    "def add(x,y):\n",
    "    return x+y\n",
    "def sub(x,y):\n",
    "    return x-y\n",
    "def mul(x,y):\n",
    "    return x*y\n",
    "def div(x,y):\n",
    "    return x/y\n",
    "\n",
    "print(\"Select Operation\\n1.Addition\\n2.Subtraction\\n3.Multiplication\\n4.Division \")\n",
    "while (True):\n",
    "    choice=input(\"Enter Choice 1/2/3/4 \")\n",
    "    if choice in('1','2','3','4',):\n",
    "        num1=float(input(\"Enter Num 1: \"))\n",
    "        num2=float(input(\"Enter Num 2: \"))\n",
    "        if choice =='1':\n",
    "            print(num1, \"+\", num2, \"=\", add(num1, num2))\n",
    "        elif choice == '2':\n",
    "            print(num1, \"-\", num2, \"=\", sub(num1, num2))\n",
    "        elif choice == '3':\n",
    "            print(num1, \"X\", num2, \"=\", mul(num1, num2))\n",
    "        elif choice == '4':\n",
    "            print(num1, \"÷\", num2, \"=\", div(num1, num2))\n",
    "        break\n",
    "    else:\n",
    "        print(\"Error!! {} is invalid input.Enter valid input \".format(choice))\n",
    "\n"
   ]
  },
  {
   "cell_type": "code",
   "execution_count": null,
   "id": "378430ec",
   "metadata": {},
   "outputs": [],
   "source": []
  },
  {
   "cell_type": "code",
   "execution_count": null,
   "id": "9606dee4",
   "metadata": {},
   "outputs": [],
   "source": []
  }
 ],
 "metadata": {
  "kernelspec": {
   "display_name": "Python 3",
   "language": "python",
   "name": "python3"
  },
  "language_info": {
   "codemirror_mode": {
    "name": "ipython",
    "version": 3
   },
   "file_extension": ".py",
   "mimetype": "text/x-python",
   "name": "python",
   "nbconvert_exporter": "python",
   "pygments_lexer": "ipython3",
   "version": "3.8.8"
  }
 },
 "nbformat": 4,
 "nbformat_minor": 5
}
