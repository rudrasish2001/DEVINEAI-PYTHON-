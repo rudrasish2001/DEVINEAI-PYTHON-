{
  "nbformat": 4,
  "nbformat_minor": 0,
  "metadata": {
    "colab": {
      "name": "Punctuation removal from a given string.ipynb",
      "provenance": [],
      "authorship_tag": "ABX9TyPDwNcc9fVl2ebI+XB+pQ16",
      "include_colab_link": true
    },
    "kernelspec": {
      "name": "python3",
      "display_name": "Python 3"
    },
    "language_info": {
      "name": "python"
    }
  },
  "cells": [
    {
      "cell_type": "markdown",
      "metadata": {
        "id": "view-in-github",
        "colab_type": "text"
      },
      "source": [
        "<a href=\"https://colab.research.google.com/github/SoumeshPattanaik/DivineAI/blob/main/Punctuation_removal_from_a_given_string.ipynb\" target=\"_parent\"><img src=\"https://colab.research.google.com/assets/colab-badge.svg\" alt=\"Open In Colab\"/></a>"
      ]
    },
    {
      "cell_type": "code",
      "metadata": {
        "colab": {
          "base_uri": "https://localhost:8080/"
        },
        "id": "W0Dx4ZvXTNaO",
        "outputId": "648141d1-33ef-4215-ee40-ecb47b859c5e"
      },
      "source": [
        "# Remove special symbols/Punctuation from a given string\n",
        "punctuations = '''!()-[]{};:'\"\\,<>./?@#$%^&*_~'''\n",
        "str_pun = input(\"Enter a string:\")\n",
        "# remove punctuation from the string  \n",
        "str = \"\"  \n",
        "for char in str_pun:  \n",
        "   if char not in punctuations:  \n",
        "       str = str + char  \n",
        "# display the unpunctuated string  \n",
        "print(\"Unpunctuated string:\",str)  "
      ],
      "execution_count": 5,
      "outputs": [
        {
          "output_type": "stream",
          "text": [
            "Enter a string:Have a *&*&^%%$%!*!&^nice *&&^^%^%day\n",
            "Unpunctuated string: Have a nice day\n"
          ],
          "name": "stdout"
        }
      ]
    },
    {
      "cell_type": "code",
      "metadata": {
        "id": "U8B6A3LcWb20"
      },
      "source": [
        ""
      ],
      "execution_count": 5,
      "outputs": []
    }
  ]
}