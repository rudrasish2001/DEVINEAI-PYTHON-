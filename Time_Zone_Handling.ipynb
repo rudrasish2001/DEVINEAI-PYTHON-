{
  "nbformat": 4,
  "nbformat_minor": 0,
  "metadata": {
    "colab": {
      "name": "Time Zone Handling.ipynb",
      "provenance": [],
      "authorship_tag": "ABX9TyNdYB1V7sqSXudT5beYtavd",
      "include_colab_link": true
    },
    "kernelspec": {
      "name": "python3",
      "display_name": "Python 3"
    },
    "language_info": {
      "name": "python"
    }
  },
  "cells": [
    {
      "cell_type": "markdown",
      "metadata": {
        "id": "view-in-github",
        "colab_type": "text"
      },
      "source": [
        "<a href=\"https://colab.research.google.com/github/SoumeshPattanaik/DivineAI/blob/main/Time_Zone_Handling.ipynb\" target=\"_parent\"><img src=\"https://colab.research.google.com/assets/colab-badge.svg\" alt=\"Open In Colab\"/></a>"
      ]
    },
    {
      "cell_type": "code",
      "metadata": {
        "id": "0u8pJqcIGcXZ"
      },
      "source": [
        "import numpy as np\n",
        "import pandas as pd"
      ],
      "execution_count": 1,
      "outputs": []
    },
    {
      "cell_type": "code",
      "metadata": {
        "colab": {
          "base_uri": "https://localhost:8080/"
        },
        "id": "RnoOPNrLGhcy",
        "outputId": "f767b3d0-022c-49dc-d399-82b0d2b3e780"
      },
      "source": [
        "rng = pd.date_range('July 11 2021',periods=15,freq='D')\n",
        "rng"
      ],
      "execution_count": 3,
      "outputs": [
        {
          "output_type": "execute_result",
          "data": {
            "text/plain": [
              "DatetimeIndex(['2021-07-11', '2021-07-12', '2021-07-13', '2021-07-14',\n",
              "               '2021-07-15', '2021-07-16', '2021-07-17', '2021-07-18',\n",
              "               '2021-07-19', '2021-07-20', '2021-07-21', '2021-07-22',\n",
              "               '2021-07-23', '2021-07-24', '2021-07-25'],\n",
              "              dtype='datetime64[ns]', freq='D')"
            ]
          },
          "metadata": {
            "tags": []
          },
          "execution_count": 3
        }
      ]
    },
    {
      "cell_type": "code",
      "metadata": {
        "colab": {
          "base_uri": "https://localhost:8080/"
        },
        "id": "zs6il01-Gu3G",
        "outputId": "73216b4e-8406-45c0-8c8b-7dd953fe78e7"
      },
      "source": [
        "# Time Zone\n",
        "rng_tz = pd.date_range('July 11 2021 11:18',periods=3,freq='D',tz='Europe/London')\n",
        "rng_tz.tz"
      ],
      "execution_count": 6,
      "outputs": [
        {
          "output_type": "execute_result",
          "data": {
            "text/plain": [
              "<DstTzInfo 'Europe/London' LMT-1 day, 23:59:00 STD>"
            ]
          },
          "metadata": {
            "tags": []
          },
          "execution_count": 6
        }
      ]
    },
    {
      "cell_type": "code",
      "metadata": {
        "colab": {
          "base_uri": "https://localhost:8080/"
        },
        "id": "XhcxTGVbHZ2x",
        "outputId": "a4fa6e03-3a75-46fa-ad79-a73890b0856f"
      },
      "source": [
        "# Importing timezones\n",
        "from pytz import common_timezones,all_timezones\n",
        "print(\"Total Common Timezones = \",len(common_timezones))\n",
        "print(\"Total Timezones = \",len(all_timezones))\n",
        "print(\"Reuired Timezones = \",set(all_timezones)-set(common_timezones))"
      ],
      "execution_count": 8,
      "outputs": [
        {
          "output_type": "stream",
          "text": [
            "Total Common Timezones =  440\n",
            "Total Timezones =  592\n",
            "Reuired Timezones =  {'Iran', 'Etc/GMT+9', 'EST5EDT', 'America/Fort_Wayne', 'Navajo', 'Canada/Yukon', 'Universal', 'Asia/Tel_Aviv', 'HST', 'Atlantic/Faeroe', 'Asia/Ujung_Pandang', 'America/Virgin', 'EST', 'Etc/GMT-9', 'Israel', 'Mexico/General', 'Asia/Dacca', 'Mexico/BajaNorte', 'NZ', 'Africa/Timbuktu', 'Australia/Yancowinna', 'Etc/GMT+5', 'W-SU', 'America/Argentina/ComodRivadavia', 'Etc/GMT-2', 'Etc/GMT0', 'Pacific/Truk', 'Greenwich', 'Pacific/Samoa', 'Zulu', 'Etc/GMT+12', 'Etc/GMT-0', 'Asia/Calcutta', 'Etc/GMT-6', 'Etc/GMT+8', 'America/Santa_Isabel', 'MST', 'US/Michigan', 'Etc/GMT+1', 'US/Indiana-Starke', 'Etc/Greenwich', 'America/Atka', 'America/Montreal', 'Australia/South', 'Etc/GMT+7', 'Etc/GMT+6', 'Africa/Asmera', 'Kwajalein', 'Jamaica', 'Etc/Zulu', 'PST8PDT', 'Australia/Canberra', 'Brazil/Acre', 'America/Jujuy', 'UCT', 'CST6CDT', 'Antarctica/South_Pole', 'America/Buenos_Aires', 'Canada/Saskatchewan', 'MST7MDT', 'US/East-Indiana', 'America/Mendoza', 'Australia/Queensland', 'Etc/GMT', 'Etc/GMT-10', 'Australia/Tasmania', 'America/Cordoba', 'America/Coral_Harbour', 'Etc/GMT-13', 'Asia/Chongqing', 'Etc/UCT', 'Pacific/Yap', 'Asia/Thimbu', 'America/Porto_Acre', 'Asia/Macao', 'WET', 'Etc/GMT+2', 'America/Rosario', 'Pacific/Ponape', 'Etc/GMT-12', 'US/Samoa', 'Eire', 'America/Ensenada', 'Mexico/BajaSur', 'Asia/Rangoon', 'Etc/GMT-11', 'Pacific/Johnston', 'Asia/Ashkhabad', 'MET', 'Cuba', 'Iceland', 'Chile/EasterIsland', 'America/Shiprock', 'Etc/GMT-4', 'Etc/GMT-5', 'Etc/GMT+3', 'Asia/Harbin', 'CET', 'Etc/GMT+4', 'Etc/GMT-3', 'GMT-0', 'Asia/Kashgar', 'Etc/GMT+10', 'Australia/ACT', 'GMT0', 'Australia/LHI', 'America/Catamarca', 'Portugal', 'America/Indianapolis', 'Etc/GMT-14', 'Australia/West', 'Asia/Ulan_Bator', 'Australia/NSW', 'Etc/UTC', 'Etc/GMT-7', 'Egypt', 'Hongkong', 'Asia/Katmandu', 'Etc/GMT+0', 'America/Louisville', 'GB-Eire', 'Brazil/DeNoronha', 'Libya', 'Singapore', 'Brazil/West', 'Turkey', 'Etc/GMT-8', 'PRC', 'Brazil/East', 'Atlantic/Jan_Mayen', 'Europe/Belfast', 'Australia/Victoria', 'Etc/GMT-1', 'US/Aleutian', 'America/Knox_IN', 'Asia/Istanbul', 'GB', 'NZ-CHAT', 'Asia/Saigon', 'Europe/Nicosia', 'Etc/Universal', 'Australia/North', 'ROK', 'Europe/Tiraspol', 'Japan', 'Chile/Continental', 'ROC', 'EET', 'Etc/GMT+11', 'Poland', 'Asia/Chungking', 'GMT+0'}\n"
          ],
          "name": "stdout"
        }
      ]
    },
    {
      "cell_type": "code",
      "metadata": {
        "colab": {
          "base_uri": "https://localhost:8080/"
        },
        "id": "2MpY7lajH56q",
        "outputId": "a6a4f348-b531-4601-c9e0-cb6fcfbcb134"
      },
      "source": [
        "# Localizing a naive Timestamp\n",
        "# Naive means a date-time purposely lacking any concept of time zone or offset-from\n",
        "t_naive = pd.Timestamp('July 11 2021 11:26')\n",
        "t_naive"
      ],
      "execution_count": 9,
      "outputs": [
        {
          "output_type": "execute_result",
          "data": {
            "text/plain": [
              "Timestamp('2021-07-11 11:26:00')"
            ]
          },
          "metadata": {
            "tags": []
          },
          "execution_count": 9
        }
      ]
    },
    {
      "cell_type": "code",
      "metadata": {
        "colab": {
          "base_uri": "https://localhost:8080/"
        },
        "id": "_o2LwVTaJA2S",
        "outputId": "a5bc9fa3-2cc7-4a09-8ae7-4ffe49e7f527"
      },
      "source": [
        "t = t_naive.tz_localize(tz = 'US/Central')\n",
        "t"
      ],
      "execution_count": 10,
      "outputs": [
        {
          "output_type": "execute_result",
          "data": {
            "text/plain": [
              "Timestamp('2021-07-11 11:26:00-0500', tz='US/Central')"
            ]
          },
          "metadata": {
            "tags": []
          },
          "execution_count": 10
        }
      ]
    },
    {
      "cell_type": "code",
      "metadata": {
        "colab": {
          "base_uri": "https://localhost:8080/"
        },
        "id": "uo68caWiJUUs",
        "outputId": "73aa440a-bce3-4dda-c1ce-18d062601fcf"
      },
      "source": [
        "# Converting timezone\n",
        "t.tz_convert('Asia/Tokyo')"
      ],
      "execution_count": 11,
      "outputs": [
        {
          "output_type": "execute_result",
          "data": {
            "text/plain": [
              "Timestamp('2021-07-12 01:26:00+0900', tz='Asia/Tokyo')"
            ]
          },
          "metadata": {
            "tags": []
          },
          "execution_count": 11
        }
      ]
    },
    {
      "cell_type": "code",
      "metadata": {
        "colab": {
          "base_uri": "https://localhost:8080/"
        },
        "id": "U3aYxQ0bKktt",
        "outputId": "a188568c-2dbe-479a-9da4-215496019102"
      },
      "source": [
        "# Handling daylight savings\n",
        "rng = pd.date_range('July 11 2021',periods=10,tz='US/Central')\n",
        "ts = pd.Series(range(10),index=rng)\n",
        "ts"
      ],
      "execution_count": 12,
      "outputs": [
        {
          "output_type": "execute_result",
          "data": {
            "text/plain": [
              "2021-07-11 00:00:00-05:00    0\n",
              "2021-07-12 00:00:00-05:00    1\n",
              "2021-07-13 00:00:00-05:00    2\n",
              "2021-07-14 00:00:00-05:00    3\n",
              "2021-07-15 00:00:00-05:00    4\n",
              "2021-07-16 00:00:00-05:00    5\n",
              "2021-07-17 00:00:00-05:00    6\n",
              "2021-07-18 00:00:00-05:00    7\n",
              "2021-07-19 00:00:00-05:00    8\n",
              "2021-07-20 00:00:00-05:00    9\n",
              "Freq: D, dtype: int64"
            ]
          },
          "metadata": {
            "tags": []
          },
          "execution_count": 12
        }
      ]
    },
    {
      "cell_type": "code",
      "metadata": {
        "colab": {
          "base_uri": "https://localhost:8080/"
        },
        "id": "IM3yYvW9K6zW",
        "outputId": "c439675d-1305-4092-cb1d-92389785de85"
      },
      "source": [
        "rng = pd.date_range('July 11 2021',periods=10,tz='US/Central')\n",
        "ts = pd.Series(range(10),index=rng)\n",
        "ts"
      ],
      "execution_count": 13,
      "outputs": [
        {
          "output_type": "execute_result",
          "data": {
            "text/plain": [
              "2021-07-11 00:00:00-05:00    0\n",
              "2021-07-12 00:00:00-05:00    1\n",
              "2021-07-13 00:00:00-05:00    2\n",
              "2021-07-14 00:00:00-05:00    3\n",
              "2021-07-15 00:00:00-05:00    4\n",
              "2021-07-16 00:00:00-05:00    5\n",
              "2021-07-17 00:00:00-05:00    6\n",
              "2021-07-18 00:00:00-05:00    7\n",
              "2021-07-19 00:00:00-05:00    8\n",
              "2021-07-20 00:00:00-05:00    9\n",
              "Freq: D, dtype: int64"
            ]
          },
          "metadata": {
            "tags": []
          },
          "execution_count": 13
        }
      ]
    },
    {
      "cell_type": "code",
      "metadata": {
        "colab": {
          "base_uri": "https://localhost:8080/"
        },
        "id": "53n_kCxpM7uN",
        "outputId": "756036bd-6cca-4a18-8751-632db3e2f558"
      },
      "source": [
        "ts.tz_convert('US/Central')"
      ],
      "execution_count": 14,
      "outputs": [
        {
          "output_type": "execute_result",
          "data": {
            "text/plain": [
              "2021-07-11 00:00:00-05:00    0\n",
              "2021-07-12 00:00:00-05:00    1\n",
              "2021-07-13 00:00:00-05:00    2\n",
              "2021-07-14 00:00:00-05:00    3\n",
              "2021-07-15 00:00:00-05:00    4\n",
              "2021-07-16 00:00:00-05:00    5\n",
              "2021-07-17 00:00:00-05:00    6\n",
              "2021-07-18 00:00:00-05:00    7\n",
              "2021-07-19 00:00:00-05:00    8\n",
              "2021-07-20 00:00:00-05:00    9\n",
              "Freq: D, dtype: int64"
            ]
          },
          "metadata": {
            "tags": []
          },
          "execution_count": 14
        }
      ]
    },
    {
      "cell_type": "code",
      "metadata": {
        "colab": {
          "base_uri": "https://localhost:8080/"
        },
        "id": "ScnY59iCNAX7",
        "outputId": "6d543a25-6c39-4917-a8cb-2fc89eead4be"
      },
      "source": [
        "pd.date_range('July 11 2021 11:46',periods=10,freq='H',tz='US/Eastern')"
      ],
      "execution_count": 18,
      "outputs": [
        {
          "output_type": "execute_result",
          "data": {
            "text/plain": [
              "DatetimeIndex(['2021-07-11 11:46:00-04:00', '2021-07-11 12:46:00-04:00',\n",
              "               '2021-07-11 13:46:00-04:00', '2021-07-11 14:46:00-04:00',\n",
              "               '2021-07-11 15:46:00-04:00', '2021-07-11 16:46:00-04:00',\n",
              "               '2021-07-11 17:46:00-04:00', '2021-07-11 18:46:00-04:00',\n",
              "               '2021-07-11 19:46:00-04:00', '2021-07-11 20:46:00-04:00'],\n",
              "              dtype='datetime64[ns, US/Eastern]', freq='H')"
            ]
          },
          "metadata": {
            "tags": []
          },
          "execution_count": 18
        }
      ]
    },
    {
      "cell_type": "code",
      "metadata": {
        "colab": {
          "base_uri": "https://localhost:8080/"
        },
        "id": "96KKSM0XNNC-",
        "outputId": "e2ef3af5-1f9c-4674-bf49-2d8c00c10288"
      },
      "source": [
        "pd.Timestamp('July 11 2021',tz='US/Eastern')"
      ],
      "execution_count": 19,
      "outputs": [
        {
          "output_type": "execute_result",
          "data": {
            "text/plain": [
              "Timestamp('2021-07-11 00:00:00-0400', tz='US/Eastern')"
            ]
          },
          "metadata": {
            "tags": []
          },
          "execution_count": 19
        }
      ]
    },
    {
      "cell_type": "code",
      "metadata": {
        "id": "1eLveSQlNkQ1"
      },
      "source": [
        ""
      ],
      "execution_count": null,
      "outputs": []
    }
  ]
}