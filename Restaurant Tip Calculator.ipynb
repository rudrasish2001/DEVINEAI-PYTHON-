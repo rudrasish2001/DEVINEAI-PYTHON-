{
 "cells": [
  {
   "cell_type": "code",
   "execution_count": 6,
   "metadata": {},
   "outputs": [
    {
     "name": "stdout",
     "output_type": "stream",
     "text": [
      "Welcome to the tip calculator.\n",
      "What was the total bill? $124.56\n",
      "What percentage of tip would you like to give? 10, 12, or 15? 12\n",
      "How many people to split the bill? 7\n",
      "Each person should pay: $19.93\n"
     ]
    }
   ],
   "source": [
    "\n",
    "print(\"Welcome to the tip calculator.\")\n",
    "bill=float(input(\"What was the total bill? $\"))\n",
    "tip=int(input(\"What percentage of tip would you like to give? 10, 12, or 15? \"))\n",
    "people=int(input(\"How many people to split the bill? \"))\n",
    "amount=bill/people\n",
    "tip_each=(amount*tip)/100\n",
    "amount=amount+tip_each\n",
    "amount=round(amount,2)\n",
    "print(f\"Each person should pay: ${amount}\")"
   ]
  },
  {
   "cell_type": "code",
   "execution_count": null,
   "metadata": {},
   "outputs": [],
   "source": []
  },
  {
   "cell_type": "code",
   "execution_count": null,
   "metadata": {},
   "outputs": [],
   "source": []
  }
 ],
 "metadata": {
  "kernelspec": {
   "display_name": "Python 3",
   "language": "python",
   "name": "python3"
  },
  "language_info": {
   "codemirror_mode": {
    "name": "ipython",
    "version": 3
   },
   "file_extension": ".py",
   "mimetype": "text/x-python",
   "name": "python",
   "nbconvert_exporter": "python",
   "pygments_lexer": "ipython3",
   "version": "3.8.5"
  }
 },
 "nbformat": 4,
 "nbformat_minor": 4
}
