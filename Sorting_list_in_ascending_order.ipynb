{
  "nbformat": 4,
  "nbformat_minor": 0,
  "metadata": {
    "colab": {
      "name": "Sorting list in ascending order.ipynb",
      "provenance": [],
      "authorship_tag": "ABX9TyPzXhdZWVsD6lOjVKD+NpWn",
      "include_colab_link": true
    },
    "kernelspec": {
      "name": "python3",
      "display_name": "Python 3"
    },
    "language_info": {
      "name": "python"
    }
  },
  "cells": [
    {
      "cell_type": "markdown",
      "metadata": {
        "id": "view-in-github",
        "colab_type": "text"
      },
      "source": [
        "<a href=\"https://colab.research.google.com/github/SoumeshPattanaik/DivineAI/blob/main/Sorting_list_in_ascending_order.ipynb\" target=\"_parent\"><img src=\"https://colab.research.google.com/assets/colab-badge.svg\" alt=\"Open In Colab\"/></a>"
      ]
    },
    {
      "cell_type": "code",
      "metadata": {
        "colab": {
          "base_uri": "https://localhost:8080/"
        },
        "id": "AmpxBbXLK7Nm",
        "outputId": "09bc34d6-c792-4fce-8e35-9fec66c204b8"
      },
      "source": [
        "# Python program to Sort the list in ascending order\n",
        "my_list=[1,3,-32,-19,13,456,-11123,0]\n",
        "print(\"Original list:\",my_list)\n",
        "my_list.sort()\n",
        "print(\"After sorting in ascending order:\",my_list)"
      ],
      "execution_count": 1,
      "outputs": [
        {
          "output_type": "stream",
          "text": [
            "Original list: [1, 3, -32, -19, 13, 456, -11123, 0]\n",
            "After sorting in ascending order: [-11123, -32, -19, 0, 1, 3, 13, 456]\n"
          ],
          "name": "stdout"
        }
      ]
    },
    {
      "cell_type": "code",
      "metadata": {
        "id": "_o7EynArLtOL"
      },
      "source": [
        ""
      ],
      "execution_count": null,
      "outputs": []
    }
  ]
}