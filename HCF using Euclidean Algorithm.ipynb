{
 "cells": [
  {
   "cell_type": "code",
   "execution_count": 30,
   "metadata": {},
   "outputs": [
    {
     "name": "stdout",
     "output_type": "stream",
     "text": [
      "enter 1st number:12\n",
      "enter 2nd number:16\n",
      "HCF of 12 and 16 is 4\n"
     ]
    }
   ],
   "source": [
    "a=int(input(\"enter 1st number:\"))\n",
    "b=int(input(\"enter 2nd number:\"))\n",
    "maxi=max(a,b)\n",
    "mini=min(a,b)\n",
    "rem=1\n",
    "while rem!=0:\n",
    "    rem=maxi%mini\n",
    "    if rem==0:\n",
    "        print(f\"HCF of {a} and {b} is {mini}\")\n",
    "    else :\n",
    "        maxi=mini\n",
    "        mini=rem"
   ]
  }
 ],
 "metadata": {
  "kernelspec": {
   "display_name": "Python 3",
   "language": "python",
   "name": "python3"
  },
  "language_info": {
   "codemirror_mode": {
    "name": "ipython",
    "version": 3
   },
   "file_extension": ".py",
   "mimetype": "text/x-python",
   "name": "python",
   "nbconvert_exporter": "python",
   "pygments_lexer": "ipython3",
   "version": "3.8.5"
  }
 },
 "nbformat": 4,
 "nbformat_minor": 4
}
