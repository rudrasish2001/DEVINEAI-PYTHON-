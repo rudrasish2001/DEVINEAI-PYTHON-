{
 "cells": [
  {
   "cell_type": "code",
   "execution_count": 31,
   "metadata": {},
   "outputs": [
    {
     "name": "stdout",
     "output_type": "stream",
     "text": [
      "enter 1st number:135\n",
      "enter 2nd number:225\n",
      "HCF of 135 and 225 is 45\n"
     ]
    }
   ],
   "source": [
    "def HCFEucAl(a,b):\n",
    "    maxi=max(a,b)\n",
    "    mini=min(a,b)\n",
    "    rem=1\n",
    "    while rem!=0:\n",
    "        rem=maxi%mini\n",
    "        if rem==0:\n",
    "            #print(f\"HCF of {a} and {b} is {mini}\")\n",
    "            return mini\n",
    "        else :\n",
    "            maxi=mini\n",
    "            mini=rem\n",
    "num1=int(input(\"enter 1st number:\"))\n",
    "num2=int(input(\"enter 2nd number:\"))\n",
    "hcf=HCFEucAl(num1,num2)\n",
    "print(f\"HCF of {num1} and {num2} is {hcf}\")"
   ]
  }
 ],
 "metadata": {
  "kernelspec": {
   "display_name": "Python 3",
   "language": "python",
   "name": "python3"
  },
  "language_info": {
   "codemirror_mode": {
    "name": "ipython",
    "version": 3
   },
   "file_extension": ".py",
   "mimetype": "text/x-python",
   "name": "python",
   "nbconvert_exporter": "python",
   "pygments_lexer": "ipython3",
   "version": "3.8.5"
  }
 },
 "nbformat": 4,
 "nbformat_minor": 4
}
