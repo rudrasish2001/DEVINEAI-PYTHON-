{
  "nbformat": 4,
  "nbformat_minor": 0,
  "metadata": {
    "colab": {
      "name": "String into datetime.ipynb",
      "provenance": [],
      "authorship_tag": "ABX9TyOejLj83QzoCjdCPXBJhI9e",
      "include_colab_link": true
    },
    "kernelspec": {
      "name": "python3",
      "display_name": "Python 3"
    },
    "language_info": {
      "name": "python"
    }
  },
  "cells": [
    {
      "cell_type": "markdown",
      "metadata": {
        "id": "view-in-github",
        "colab_type": "text"
      },
      "source": [
        "<a href=\"https://colab.research.google.com/github/SoumeshPattanaik/DivineAI/blob/main/String_into_datetime.ipynb\" target=\"_parent\"><img src=\"https://colab.research.google.com/assets/colab-badge.svg\" alt=\"Open In Colab\"/></a>"
      ]
    },
    {
      "cell_type": "code",
      "metadata": {
        "id": "nVIVTTlOc6n0"
      },
      "source": [
        "# Convert string into a datetime object\n",
        "import datetime"
      ],
      "execution_count": 1,
      "outputs": []
    },
    {
      "cell_type": "code",
      "metadata": {
        "colab": {
          "base_uri": "https://localhost:8080/"
        },
        "id": "hBmeqGTldSFp",
        "outputId": "e4a60663-9703-4952-ad60-478f4c3d2804"
      },
      "source": [
        "date_time_str = 'Jun 27 2021 8:44AM'\n",
        "date_time_obj = datetime.datetime.strptime(date_time_str,'%b %d %Y %I:%M%p')\n",
        "print('Date:',date_time_obj.date())\n",
        "print('Time:',date_time_obj.time())\n",
        "print('Date-time:',date_time_obj)"
      ],
      "execution_count": 4,
      "outputs": [
        {
          "output_type": "stream",
          "text": [
            "Date: 2021-06-27\n",
            "Time: 08:44:00\n",
            "Date-time: 2021-06-27 08:44:00\n"
          ],
          "name": "stdout"
        }
      ]
    },
    {
      "cell_type": "code",
      "metadata": {
        "id": "SgfPRwUleRgI"
      },
      "source": [
        ""
      ],
      "execution_count": null,
      "outputs": []
    }
  ]
}