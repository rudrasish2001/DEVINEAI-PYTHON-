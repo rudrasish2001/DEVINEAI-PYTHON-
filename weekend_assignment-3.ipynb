{
 "cells": [
  {
   "cell_type": "code",
   "execution_count": 2,
   "metadata": {},
   "outputs": [
    {
     "name": "stdout",
     "output_type": "stream",
     "text": [
      "Inside\n"
     ]
    }
   ],
   "source": [
    "#python program to find if given co-ordinates are inside circle\n",
    "def isInside(circle_x, circle_y, rad, x, y):\n",
    "    if ((x - circle_x) * (x - circle_x) +\n",
    "        (y - circle_y) * (y - circle_y) <= rad * rad):\n",
    "        return True;\n",
    "    else:\n",
    "        return False;\n",
    "\n",
    "x = 1;\n",
    "y = 1;\n",
    "circle_x = 0;\n",
    "circle_y = 1;\n",
    "rad = 2;\n",
    "if(isInside(circle_x, circle_y, rad, x, y)):\n",
    "    print(\"Inside\");\n",
    "else:\n",
    "    print(\"Outside\");"
   ]
  },
  {
   "cell_type": "code",
   "execution_count": 3,
   "metadata": {},
   "outputs": [
    {
     "name": "stdout",
     "output_type": "stream",
     "text": [
      " Please Enter the radius of a circle: 23\n",
      " Area Of a Circle = 1661.06\n",
      " Circumference Of a Circle = 144.44\n"
     ]
    }
   ],
   "source": [
    "#python program to find the area and circumference of a circle\n",
    "PI = 3.14\n",
    "radius = float(input(' Please Enter the radius of a circle: '))\n",
    "area = PI * radius * radius\n",
    "circumference = 2 * PI * radius\n",
    "\n",
    "print(\" Area Of a Circle = %.2f\" %area)\n",
    "print(\" Circumference Of a Circle = %.2f\" %circumference)"
   ]
  },
  {
   "cell_type": "code",
   "execution_count": 7,
   "metadata": {},
   "outputs": [
    {
     "name": "stdout",
     "output_type": "stream",
     "text": [
      "23\n",
      "The sum of first n natural numbers is 276\n"
     ]
    }
   ],
   "source": [
    "#python program for the sum of first n numbn=int(input(\"Enter a number: \"))\n",
    "sum1 = 0\n",
    "n=int(input())\n",
    "while(n > 0):\n",
    "    sum1=sum1+n\n",
    "    n=n-1\n",
    "print(\"The sum of first n natural numbers is\",sum1)\n"
   ]
  },
  {
   "cell_type": "code",
   "execution_count": 8,
   "metadata": {},
   "outputs": [
    {
     "name": "stdout",
     "output_type": "stream",
     "text": [
      "Enter number of elements for dictionary:3\n",
      "For keys:\n",
      "Enter element1:3\n",
      "Enter element2:4\n",
      "Enter element3:8\n",
      "For values:\n",
      "Enter element1:9\n",
      "Enter element2:6\n",
      "Enter element3:5\n",
      "The dictionary is:\n",
      "{3: 9, 4: 6, 8: 5}\n"
     ]
    }
   ],
   "source": [
    "#Python Program to Map two lists into a Dictionary\n",
    "keys=[]\n",
    "values=[]\n",
    "n=int(input(\"Enter number of elements for dictionary:\"))\n",
    "print(\"For keys:\")\n",
    "for x in range(0,n):\n",
    "    element=int(input(\"Enter element\" + str(x+1) + \":\"))\n",
    "    keys.append(element)\n",
    "print(\"For values:\")\n",
    "for x in range(0,n):\n",
    "    element=int(input(\"Enter element\" + str(x+1) + \":\"))\n",
    "    values.append(element)\n",
    "d=dict(zip(keys,values))\n",
    "print(\"The dictionary is:\")\n",
    "print(d)"
   ]
  },
  {
   "cell_type": "code",
   "execution_count": null,
   "metadata": {},
   "outputs": [],
   "source": []
  }
 ],
 "metadata": {
  "kernelspec": {
   "display_name": "Python 3",
   "language": "python",
   "name": "python3"
  },
  "language_info": {
   "codemirror_mode": {
    "name": "ipython",
    "version": 3
   },
   "file_extension": ".py",
   "mimetype": "text/x-python",
   "name": "python",
   "nbconvert_exporter": "python",
   "pygments_lexer": "ipython3",
   "version": "3.7.4"
  }
 },
 "nbformat": 4,
 "nbformat_minor": 2
}
