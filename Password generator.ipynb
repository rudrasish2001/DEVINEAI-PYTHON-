{
 "cells": [
  {
   "cell_type": "code",
   "execution_count": null,
   "metadata": {},
   "outputs": [],
   "source": [
    "import random\n",
    "letters = ['a', 'b', 'c', 'd', 'e', 'f', 'g', 'h', 'i', 'j', 'k', 'l', 'm', 'n', 'o', 'p', 'q', 'r', 's', 't', 'u', 'v', 'w', 'x', 'y', 'z', 'A', 'B', 'C', 'D', 'E', 'F', 'G', 'H', 'I', 'J', 'K', 'L', 'M', 'N', 'O', 'P', 'Q', 'R', 'S', 'T', 'U', 'V', 'W', 'X', 'Y', 'Z']\n",
    "numbers = ['0', '1', '2', '3', '4', '5', '6', '7', '8', '9']\n",
    "symbols = ['!', '#', '$', '%', '&', '(', ')', '*', '+']\n",
    "\n",
    "print(\"Welcome to the PyPassword Generator!\")\n",
    "nr_letters= int(input(\"How many letters would you like in your password?\\n\")) \n",
    "nr_symbols = int(input(f\"How many symbols would you like?\\n\"))\n",
    "nr_numbers = int(input(f\"How many numbers would you like?\\n\"))\n",
    "password=\"\"\n",
    "password2=[]\n",
    "for i in range(0,nr_letters):\n",
    "    #rl=letters[random.randint(0,len(letters)-1)]\n",
    "    password+=random.choice(letters)\n",
    "for i in range(0,nr_symbols):\n",
    "    #rs=symbols[random.randint(0,len(symbols)-1)]\n",
    "    password+=random.choice(symbols)\n",
    "for i in range(0,nr_numbers):\n",
    "    #rn=numbers[random.randint(0,len(numbers)-1)]\n",
    "    password+=random.choice(numbers)\n",
    "#print(f\"Your password is: {password}\")\n",
    "for i in password:\n",
    "    password2.append(i)\n",
    "#print(password2)\n",
    "random.shuffle(password2)\n",
    "#print(password2)\n",
    "password3=\"\"\n",
    "for i in password2:\n",
    "    password3+=i\n",
    "print(f\"Your password is: {password3}\")"
   ]
  }
 ],
 "metadata": {
  "kernelspec": {
   "display_name": "Python 3",
   "language": "python",
   "name": "python3"
  },
  "language_info": {
   "codemirror_mode": {
    "name": "ipython",
    "version": 3
   },
   "file_extension": ".py",
   "mimetype": "text/x-python",
   "name": "python",
   "nbconvert_exporter": "python",
   "pygments_lexer": "ipython3",
   "version": "3.8.5"
  }
 },
 "nbformat": 4,
 "nbformat_minor": 4
}
