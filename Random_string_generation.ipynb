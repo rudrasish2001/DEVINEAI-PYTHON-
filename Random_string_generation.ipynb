{
  "nbformat": 4,
  "nbformat_minor": 0,
  "metadata": {
    "colab": {
      "name": "Random string generation.ipynb",
      "provenance": [],
      "authorship_tag": "ABX9TyOX7xJ2MP0N6r3d/s6bZlvc",
      "include_colab_link": true
    },
    "kernelspec": {
      "name": "python3",
      "display_name": "Python 3"
    },
    "language_info": {
      "name": "python"
    }
  },
  "cells": [
    {
      "cell_type": "markdown",
      "metadata": {
        "id": "view-in-github",
        "colab_type": "text"
      },
      "source": [
        "<a href=\"https://colab.research.google.com/github/SoumeshPattanaik/DivineAI/blob/main/Random_string_generation.ipynb\" target=\"_parent\"><img src=\"https://colab.research.google.com/assets/colab-badge.svg\" alt=\"Open In Colab\"/></a>"
      ]
    },
    {
      "cell_type": "code",
      "metadata": {
        "id": "qxKGQ6_1Qz9Q"
      },
      "source": [
        "# Generate  random String of length 5\n",
        "import random\n",
        "import string"
      ],
      "execution_count": 1,
      "outputs": []
    },
    {
      "cell_type": "code",
      "metadata": {
        "colab": {
          "base_uri": "https://localhost:8080/"
        },
        "id": "V15AcZ_kRXNP",
        "outputId": "836782c1-56fa-4b02-a0d6-2f184fa634ab"
      },
      "source": [
        "n=int(input(\"Enter range:\"))\n",
        "def rand_str(chars=string.ascii_uppercase + string.digits,N=10):\n",
        "  return ''.join(random.choice(chars) for i in range (n))\n",
        "print(rand_str())"
      ],
      "execution_count": 3,
      "outputs": [
        {
          "output_type": "stream",
          "text": [
            "Enter range:5\n",
            "BZIDP\n"
          ],
          "name": "stdout"
        }
      ]
    },
    {
      "cell_type": "code",
      "metadata": {
        "id": "rpEsKK3aXEjd"
      },
      "source": [
        ""
      ],
      "execution_count": null,
      "outputs": []
    }
  ]
}