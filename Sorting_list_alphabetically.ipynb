{
  "nbformat": 4,
  "nbformat_minor": 0,
  "metadata": {
    "colab": {
      "name": "Sorting list alphabetically.ipynb",
      "provenance": [],
      "authorship_tag": "ABX9TyPXSrsyfHX3bcFhgGgf1cfO",
      "include_colab_link": true
    },
    "kernelspec": {
      "name": "python3",
      "display_name": "Python 3"
    },
    "language_info": {
      "name": "python"
    }
  },
  "cells": [
    {
      "cell_type": "markdown",
      "metadata": {
        "id": "view-in-github",
        "colab_type": "text"
      },
      "source": [
        "<a href=\"https://colab.research.google.com/github/SoumeshPattanaik/DivineAI/blob/main/Sorting_list_alphabetically.ipynb\" target=\"_parent\"><img src=\"https://colab.research.google.com/assets/colab-badge.svg\" alt=\"Open In Colab\"/></a>"
      ]
    },
    {
      "cell_type": "code",
      "metadata": {
        "colab": {
          "base_uri": "https://localhost:8080/"
        },
        "id": "oa6XjgucJmAs",
        "outputId": "16db9e79-f51a-42a2-d641-13857309763c"
      },
      "source": [
        "# Sort the string list alphabetically\n",
        "list=['hi','bye','morning','good','positive','boost','weekend','sleep']\n",
        "print(\"Original list:\",list)\n",
        "list.sort()\n",
        "print(\"After sorting:\",list)"
      ],
      "execution_count": 3,
      "outputs": [
        {
          "output_type": "stream",
          "text": [
            "Original list: ['hi', 'bye', 'morning', 'good', 'positive', 'boost', 'weekend', 'sleep']\n",
            "After sorting: ['boost', 'bye', 'good', 'hi', 'morning', 'positive', 'sleep', 'weekend']\n"
          ],
          "name": "stdout"
        }
      ]
    },
    {
      "cell_type": "code",
      "metadata": {
        "id": "nC5HbtfXKJln"
      },
      "source": [
        ""
      ],
      "execution_count": null,
      "outputs": []
    }
  ]
}