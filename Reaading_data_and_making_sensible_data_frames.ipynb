{
  "nbformat": 4,
  "nbformat_minor": 0,
  "metadata": {
    "colab": {
      "name": "Reaading data and making sensible data frames.ipynb",
      "provenance": [],
      "authorship_tag": "ABX9TyNRDyYS8J0HLgvZ59hKZtPt",
      "include_colab_link": true
    },
    "kernelspec": {
      "name": "python3",
      "display_name": "Python 3"
    },
    "language_info": {
      "name": "python"
    }
  },
  "cells": [
    {
      "cell_type": "markdown",
      "metadata": {
        "id": "view-in-github",
        "colab_type": "text"
      },
      "source": [
        "<a href=\"https://colab.research.google.com/github/SoumeshPattanaik/DivineAI/blob/main/Reaading_data_and_making_sensible_data_frames.ipynb\" target=\"_parent\"><img src=\"https://colab.research.google.com/assets/colab-badge.svg\" alt=\"Open In Colab\"/></a>"
      ]
    },
    {
      "cell_type": "code",
      "metadata": {
        "id": "NiRtJINYMFI8"
      },
      "source": [
        "import numpy as np\n",
        "import pandas as pd"
      ],
      "execution_count": 1,
      "outputs": []
    },
    {
      "cell_type": "code",
      "metadata": {
        "id": "aLj8eqsjMNOX"
      },
      "source": [
        "data = pd.read_fwf(\"http://www.cpc.ncep.noaa.gov/products/precip/CWlink/daily_ao_index/monthly.ao.index.b50.current.ascii\",parse_dates = [[0,1]],infer_datetime_format = True,header = None,)"
      ],
      "execution_count": 13,
      "outputs": []
    },
    {
      "cell_type": "code",
      "metadata": {
        "colab": {
          "base_uri": "https://localhost:8080/",
          "height": 676
        },
        "id": "mDw8SaMHMnxa",
        "outputId": "3e2a9a3f-3aba-4568-81a6-8766a9c873e4"
      },
      "source": [
        "data.head(20)"
      ],
      "execution_count": 14,
      "outputs": [
        {
          "output_type": "execute_result",
          "data": {
            "text/html": [
              "<div>\n",
              "<style scoped>\n",
              "    .dataframe tbody tr th:only-of-type {\n",
              "        vertical-align: middle;\n",
              "    }\n",
              "\n",
              "    .dataframe tbody tr th {\n",
              "        vertical-align: top;\n",
              "    }\n",
              "\n",
              "    .dataframe thead th {\n",
              "        text-align: right;\n",
              "    }\n",
              "</style>\n",
              "<table border=\"1\" class=\"dataframe\">\n",
              "  <thead>\n",
              "    <tr style=\"text-align: right;\">\n",
              "      <th></th>\n",
              "      <th>0_1</th>\n",
              "      <th>2</th>\n",
              "    </tr>\n",
              "  </thead>\n",
              "  <tbody>\n",
              "    <tr>\n",
              "      <th>0</th>\n",
              "      <td>1950-01-01</td>\n",
              "      <td>-0.060310</td>\n",
              "    </tr>\n",
              "    <tr>\n",
              "      <th>1</th>\n",
              "      <td>1950-02-01</td>\n",
              "      <td>0.626810</td>\n",
              "    </tr>\n",
              "    <tr>\n",
              "      <th>2</th>\n",
              "      <td>1950-03-01</td>\n",
              "      <td>-0.008128</td>\n",
              "    </tr>\n",
              "    <tr>\n",
              "      <th>3</th>\n",
              "      <td>1950-04-01</td>\n",
              "      <td>0.555100</td>\n",
              "    </tr>\n",
              "    <tr>\n",
              "      <th>4</th>\n",
              "      <td>1950-05-01</td>\n",
              "      <td>0.071577</td>\n",
              "    </tr>\n",
              "    <tr>\n",
              "      <th>5</th>\n",
              "      <td>1950-06-01</td>\n",
              "      <td>0.538570</td>\n",
              "    </tr>\n",
              "    <tr>\n",
              "      <th>6</th>\n",
              "      <td>1950-07-01</td>\n",
              "      <td>-0.802480</td>\n",
              "    </tr>\n",
              "    <tr>\n",
              "      <th>7</th>\n",
              "      <td>1950-08-01</td>\n",
              "      <td>-0.851010</td>\n",
              "    </tr>\n",
              "    <tr>\n",
              "      <th>8</th>\n",
              "      <td>1950-09-01</td>\n",
              "      <td>0.357970</td>\n",
              "    </tr>\n",
              "    <tr>\n",
              "      <th>9</th>\n",
              "      <td>1950-10-01</td>\n",
              "      <td>-0.378900</td>\n",
              "    </tr>\n",
              "    <tr>\n",
              "      <th>10</th>\n",
              "      <td>1950-11-01</td>\n",
              "      <td>-0.515110</td>\n",
              "    </tr>\n",
              "    <tr>\n",
              "      <th>11</th>\n",
              "      <td>1950-12-01</td>\n",
              "      <td>-1.928100</td>\n",
              "    </tr>\n",
              "    <tr>\n",
              "      <th>12</th>\n",
              "      <td>1951-01-01</td>\n",
              "      <td>-0.084969</td>\n",
              "    </tr>\n",
              "    <tr>\n",
              "      <th>13</th>\n",
              "      <td>1951-02-01</td>\n",
              "      <td>-0.399930</td>\n",
              "    </tr>\n",
              "    <tr>\n",
              "      <th>14</th>\n",
              "      <td>1951-03-01</td>\n",
              "      <td>-1.934100</td>\n",
              "    </tr>\n",
              "    <tr>\n",
              "      <th>15</th>\n",
              "      <td>1951-04-01</td>\n",
              "      <td>-0.776480</td>\n",
              "    </tr>\n",
              "    <tr>\n",
              "      <th>16</th>\n",
              "      <td>1951-05-01</td>\n",
              "      <td>-0.862780</td>\n",
              "    </tr>\n",
              "    <tr>\n",
              "      <th>17</th>\n",
              "      <td>1951-06-01</td>\n",
              "      <td>-0.917860</td>\n",
              "    </tr>\n",
              "    <tr>\n",
              "      <th>18</th>\n",
              "      <td>1951-07-01</td>\n",
              "      <td>0.090023</td>\n",
              "    </tr>\n",
              "    <tr>\n",
              "      <th>19</th>\n",
              "      <td>1951-08-01</td>\n",
              "      <td>-0.377410</td>\n",
              "    </tr>\n",
              "  </tbody>\n",
              "</table>\n",
              "</div>"
            ],
            "text/plain": [
              "          0_1         2\n",
              "0  1950-01-01 -0.060310\n",
              "1  1950-02-01  0.626810\n",
              "2  1950-03-01 -0.008128\n",
              "3  1950-04-01  0.555100\n",
              "4  1950-05-01  0.071577\n",
              "5  1950-06-01  0.538570\n",
              "6  1950-07-01 -0.802480\n",
              "7  1950-08-01 -0.851010\n",
              "8  1950-09-01  0.357970\n",
              "9  1950-10-01 -0.378900\n",
              "10 1950-11-01 -0.515110\n",
              "11 1950-12-01 -1.928100\n",
              "12 1951-01-01 -0.084969\n",
              "13 1951-02-01 -0.399930\n",
              "14 1951-03-01 -1.934100\n",
              "15 1951-04-01 -0.776480\n",
              "16 1951-05-01 -0.862780\n",
              "17 1951-06-01 -0.917860\n",
              "18 1951-07-01  0.090023\n",
              "19 1951-08-01 -0.377410"
            ]
          },
          "metadata": {
            "tags": []
          },
          "execution_count": 14
        }
      ]
    },
    {
      "cell_type": "code",
      "metadata": {
        "id": "TGV03unRM6GU"
      },
      "source": [
        "data.columns = ['month','value']\n",
        "data.index = data.month\n",
        "data = data.drop('month',1)"
      ],
      "execution_count": 15,
      "outputs": []
    },
    {
      "cell_type": "code",
      "metadata": {
        "colab": {
          "base_uri": "https://localhost:8080/",
          "height": 237
        },
        "id": "6imYC1IZNV-D",
        "outputId": "2e054d50-59ca-43a1-abc4-2c1a8601477a"
      },
      "source": [
        "data.head()"
      ],
      "execution_count": 16,
      "outputs": [
        {
          "output_type": "execute_result",
          "data": {
            "text/html": [
              "<div>\n",
              "<style scoped>\n",
              "    .dataframe tbody tr th:only-of-type {\n",
              "        vertical-align: middle;\n",
              "    }\n",
              "\n",
              "    .dataframe tbody tr th {\n",
              "        vertical-align: top;\n",
              "    }\n",
              "\n",
              "    .dataframe thead th {\n",
              "        text-align: right;\n",
              "    }\n",
              "</style>\n",
              "<table border=\"1\" class=\"dataframe\">\n",
              "  <thead>\n",
              "    <tr style=\"text-align: right;\">\n",
              "      <th></th>\n",
              "      <th>value</th>\n",
              "    </tr>\n",
              "    <tr>\n",
              "      <th>month</th>\n",
              "      <th></th>\n",
              "    </tr>\n",
              "  </thead>\n",
              "  <tbody>\n",
              "    <tr>\n",
              "      <th>1950-01-01</th>\n",
              "      <td>-0.060310</td>\n",
              "    </tr>\n",
              "    <tr>\n",
              "      <th>1950-02-01</th>\n",
              "      <td>0.626810</td>\n",
              "    </tr>\n",
              "    <tr>\n",
              "      <th>1950-03-01</th>\n",
              "      <td>-0.008128</td>\n",
              "    </tr>\n",
              "    <tr>\n",
              "      <th>1950-04-01</th>\n",
              "      <td>0.555100</td>\n",
              "    </tr>\n",
              "    <tr>\n",
              "      <th>1950-05-01</th>\n",
              "      <td>0.071577</td>\n",
              "    </tr>\n",
              "  </tbody>\n",
              "</table>\n",
              "</div>"
            ],
            "text/plain": [
              "               value\n",
              "month               \n",
              "1950-01-01 -0.060310\n",
              "1950-02-01  0.626810\n",
              "1950-03-01 -0.008128\n",
              "1950-04-01  0.555100\n",
              "1950-05-01  0.071577"
            ]
          },
          "metadata": {
            "tags": []
          },
          "execution_count": 16
        }
      ]
    },
    {
      "cell_type": "code",
      "metadata": {
        "colab": {
          "base_uri": "https://localhost:8080/",
          "height": 1000
        },
        "id": "B8kxF75iOaDL",
        "outputId": "d9235bc5-6abb-45d6-8b50-55a9d2c64672"
      },
      "source": [
        "data['1950':'1952']"
      ],
      "execution_count": 17,
      "outputs": [
        {
          "output_type": "execute_result",
          "data": {
            "text/html": [
              "<div>\n",
              "<style scoped>\n",
              "    .dataframe tbody tr th:only-of-type {\n",
              "        vertical-align: middle;\n",
              "    }\n",
              "\n",
              "    .dataframe tbody tr th {\n",
              "        vertical-align: top;\n",
              "    }\n",
              "\n",
              "    .dataframe thead th {\n",
              "        text-align: right;\n",
              "    }\n",
              "</style>\n",
              "<table border=\"1\" class=\"dataframe\">\n",
              "  <thead>\n",
              "    <tr style=\"text-align: right;\">\n",
              "      <th></th>\n",
              "      <th>value</th>\n",
              "    </tr>\n",
              "    <tr>\n",
              "      <th>month</th>\n",
              "      <th></th>\n",
              "    </tr>\n",
              "  </thead>\n",
              "  <tbody>\n",
              "    <tr>\n",
              "      <th>1950-01-01</th>\n",
              "      <td>-0.060310</td>\n",
              "    </tr>\n",
              "    <tr>\n",
              "      <th>1950-02-01</th>\n",
              "      <td>0.626810</td>\n",
              "    </tr>\n",
              "    <tr>\n",
              "      <th>1950-03-01</th>\n",
              "      <td>-0.008128</td>\n",
              "    </tr>\n",
              "    <tr>\n",
              "      <th>1950-04-01</th>\n",
              "      <td>0.555100</td>\n",
              "    </tr>\n",
              "    <tr>\n",
              "      <th>1950-05-01</th>\n",
              "      <td>0.071577</td>\n",
              "    </tr>\n",
              "    <tr>\n",
              "      <th>1950-06-01</th>\n",
              "      <td>0.538570</td>\n",
              "    </tr>\n",
              "    <tr>\n",
              "      <th>1950-07-01</th>\n",
              "      <td>-0.802480</td>\n",
              "    </tr>\n",
              "    <tr>\n",
              "      <th>1950-08-01</th>\n",
              "      <td>-0.851010</td>\n",
              "    </tr>\n",
              "    <tr>\n",
              "      <th>1950-09-01</th>\n",
              "      <td>0.357970</td>\n",
              "    </tr>\n",
              "    <tr>\n",
              "      <th>1950-10-01</th>\n",
              "      <td>-0.378900</td>\n",
              "    </tr>\n",
              "    <tr>\n",
              "      <th>1950-11-01</th>\n",
              "      <td>-0.515110</td>\n",
              "    </tr>\n",
              "    <tr>\n",
              "      <th>1950-12-01</th>\n",
              "      <td>-1.928100</td>\n",
              "    </tr>\n",
              "    <tr>\n",
              "      <th>1951-01-01</th>\n",
              "      <td>-0.084969</td>\n",
              "    </tr>\n",
              "    <tr>\n",
              "      <th>1951-02-01</th>\n",
              "      <td>-0.399930</td>\n",
              "    </tr>\n",
              "    <tr>\n",
              "      <th>1951-03-01</th>\n",
              "      <td>-1.934100</td>\n",
              "    </tr>\n",
              "    <tr>\n",
              "      <th>1951-04-01</th>\n",
              "      <td>-0.776480</td>\n",
              "    </tr>\n",
              "    <tr>\n",
              "      <th>1951-05-01</th>\n",
              "      <td>-0.862780</td>\n",
              "    </tr>\n",
              "    <tr>\n",
              "      <th>1951-06-01</th>\n",
              "      <td>-0.917860</td>\n",
              "    </tr>\n",
              "    <tr>\n",
              "      <th>1951-07-01</th>\n",
              "      <td>0.090023</td>\n",
              "    </tr>\n",
              "    <tr>\n",
              "      <th>1951-08-01</th>\n",
              "      <td>-0.377410</td>\n",
              "    </tr>\n",
              "    <tr>\n",
              "      <th>1951-09-01</th>\n",
              "      <td>-0.817780</td>\n",
              "    </tr>\n",
              "    <tr>\n",
              "      <th>1951-10-01</th>\n",
              "      <td>-0.212910</td>\n",
              "    </tr>\n",
              "    <tr>\n",
              "      <th>1951-11-01</th>\n",
              "      <td>-0.068519</td>\n",
              "    </tr>\n",
              "    <tr>\n",
              "      <th>1951-12-01</th>\n",
              "      <td>1.987200</td>\n",
              "    </tr>\n",
              "    <tr>\n",
              "      <th>1952-01-01</th>\n",
              "      <td>0.368250</td>\n",
              "    </tr>\n",
              "    <tr>\n",
              "      <th>1952-02-01</th>\n",
              "      <td>-1.747200</td>\n",
              "    </tr>\n",
              "    <tr>\n",
              "      <th>1952-03-01</th>\n",
              "      <td>-1.859500</td>\n",
              "    </tr>\n",
              "    <tr>\n",
              "      <th>1952-04-01</th>\n",
              "      <td>0.538520</td>\n",
              "    </tr>\n",
              "    <tr>\n",
              "      <th>1952-05-01</th>\n",
              "      <td>-0.773510</td>\n",
              "    </tr>\n",
              "    <tr>\n",
              "      <th>1952-06-01</th>\n",
              "      <td>-0.440930</td>\n",
              "    </tr>\n",
              "    <tr>\n",
              "      <th>1952-07-01</th>\n",
              "      <td>0.383080</td>\n",
              "    </tr>\n",
              "    <tr>\n",
              "      <th>1952-08-01</th>\n",
              "      <td>-0.030367</td>\n",
              "    </tr>\n",
              "    <tr>\n",
              "      <th>1952-09-01</th>\n",
              "      <td>-0.383450</td>\n",
              "    </tr>\n",
              "    <tr>\n",
              "      <th>1952-10-01</th>\n",
              "      <td>-0.437170</td>\n",
              "    </tr>\n",
              "    <tr>\n",
              "      <th>1952-11-01</th>\n",
              "      <td>-1.890900</td>\n",
              "    </tr>\n",
              "    <tr>\n",
              "      <th>1952-12-01</th>\n",
              "      <td>-1.826700</td>\n",
              "    </tr>\n",
              "  </tbody>\n",
              "</table>\n",
              "</div>"
            ],
            "text/plain": [
              "               value\n",
              "month               \n",
              "1950-01-01 -0.060310\n",
              "1950-02-01  0.626810\n",
              "1950-03-01 -0.008128\n",
              "1950-04-01  0.555100\n",
              "1950-05-01  0.071577\n",
              "1950-06-01  0.538570\n",
              "1950-07-01 -0.802480\n",
              "1950-08-01 -0.851010\n",
              "1950-09-01  0.357970\n",
              "1950-10-01 -0.378900\n",
              "1950-11-01 -0.515110\n",
              "1950-12-01 -1.928100\n",
              "1951-01-01 -0.084969\n",
              "1951-02-01 -0.399930\n",
              "1951-03-01 -1.934100\n",
              "1951-04-01 -0.776480\n",
              "1951-05-01 -0.862780\n",
              "1951-06-01 -0.917860\n",
              "1951-07-01  0.090023\n",
              "1951-08-01 -0.377410\n",
              "1951-09-01 -0.817780\n",
              "1951-10-01 -0.212910\n",
              "1951-11-01 -0.068519\n",
              "1951-12-01  1.987200\n",
              "1952-01-01  0.368250\n",
              "1952-02-01 -1.747200\n",
              "1952-03-01 -1.859500\n",
              "1952-04-01  0.538520\n",
              "1952-05-01 -0.773510\n",
              "1952-06-01 -0.440930\n",
              "1952-07-01  0.383080\n",
              "1952-08-01 -0.030367\n",
              "1952-09-01 -0.383450\n",
              "1952-10-01 -0.437170\n",
              "1952-11-01 -1.890900\n",
              "1952-12-01 -1.826700"
            ]
          },
          "metadata": {
            "tags": []
          },
          "execution_count": 17
        }
      ]
    },
    {
      "cell_type": "code",
      "metadata": {
        "colab": {
          "base_uri": "https://localhost:8080/"
        },
        "id": "dzDIRAnbOeAp",
        "outputId": "8e4dc3ab-2ead-4c14-dde0-08144627dc94"
      },
      "source": [
        "type(data.index)"
      ],
      "execution_count": 18,
      "outputs": [
        {
          "output_type": "execute_result",
          "data": {
            "text/plain": [
              "pandas.core.indexes.datetimes.DatetimeIndex"
            ]
          },
          "metadata": {
            "tags": []
          },
          "execution_count": 18
        }
      ]
    },
    {
      "cell_type": "code",
      "metadata": {
        "colab": {
          "base_uri": "https://localhost:8080/",
          "height": 81
        },
        "id": "UarKuX_FP2Eg",
        "outputId": "5c51019d-cfd9-40e7-846b-eb28ad29a390"
      },
      "source": [
        "data['1951-11-11':'1951-11-12']"
      ],
      "execution_count": 19,
      "outputs": [
        {
          "output_type": "execute_result",
          "data": {
            "text/html": [
              "<div>\n",
              "<style scoped>\n",
              "    .dataframe tbody tr th:only-of-type {\n",
              "        vertical-align: middle;\n",
              "    }\n",
              "\n",
              "    .dataframe tbody tr th {\n",
              "        vertical-align: top;\n",
              "    }\n",
              "\n",
              "    .dataframe thead th {\n",
              "        text-align: right;\n",
              "    }\n",
              "</style>\n",
              "<table border=\"1\" class=\"dataframe\">\n",
              "  <thead>\n",
              "    <tr style=\"text-align: right;\">\n",
              "      <th></th>\n",
              "      <th>value</th>\n",
              "    </tr>\n",
              "    <tr>\n",
              "      <th>month</th>\n",
              "      <th></th>\n",
              "    </tr>\n",
              "  </thead>\n",
              "  <tbody>\n",
              "  </tbody>\n",
              "</table>\n",
              "</div>"
            ],
            "text/plain": [
              "Empty DataFrame\n",
              "Columns: [value]\n",
              "Index: []"
            ]
          },
          "metadata": {
            "tags": []
          },
          "execution_count": 19
        }
      ]
    },
    {
      "cell_type": "code",
      "metadata": {
        "id": "bGGQSg9zP6xs"
      },
      "source": [
        "# Period Index\n",
        "data_pd = data.to_period()"
      ],
      "execution_count": 20,
      "outputs": []
    },
    {
      "cell_type": "code",
      "metadata": {
        "colab": {
          "base_uri": "https://localhost:8080/",
          "height": 143
        },
        "id": "Aa76gx-MQBnJ",
        "outputId": "ff5fa950-7388-430d-c463-55372eeb83a7"
      },
      "source": [
        "data_pd['1951-11-11':'1951-12-12']"
      ],
      "execution_count": 22,
      "outputs": [
        {
          "output_type": "execute_result",
          "data": {
            "text/html": [
              "<div>\n",
              "<style scoped>\n",
              "    .dataframe tbody tr th:only-of-type {\n",
              "        vertical-align: middle;\n",
              "    }\n",
              "\n",
              "    .dataframe tbody tr th {\n",
              "        vertical-align: top;\n",
              "    }\n",
              "\n",
              "    .dataframe thead th {\n",
              "        text-align: right;\n",
              "    }\n",
              "</style>\n",
              "<table border=\"1\" class=\"dataframe\">\n",
              "  <thead>\n",
              "    <tr style=\"text-align: right;\">\n",
              "      <th></th>\n",
              "      <th>value</th>\n",
              "    </tr>\n",
              "    <tr>\n",
              "      <th>month</th>\n",
              "      <th></th>\n",
              "    </tr>\n",
              "  </thead>\n",
              "  <tbody>\n",
              "    <tr>\n",
              "      <th>1951-11</th>\n",
              "      <td>-0.068519</td>\n",
              "    </tr>\n",
              "    <tr>\n",
              "      <th>1951-12</th>\n",
              "      <td>1.987200</td>\n",
              "    </tr>\n",
              "  </tbody>\n",
              "</table>\n",
              "</div>"
            ],
            "text/plain": [
              "            value\n",
              "month            \n",
              "1951-11 -0.068519\n",
              "1951-12  1.987200"
            ]
          },
          "metadata": {
            "tags": []
          },
          "execution_count": 22
        }
      ]
    },
    {
      "cell_type": "code",
      "metadata": {
        "colab": {
          "base_uri": "https://localhost:8080/"
        },
        "id": "AUYSALEFQG9m",
        "outputId": "b5cc75e1-39bd-449c-9156-9c17790ccf46"
      },
      "source": [
        "# Performance of various Loads perform\n",
        "# Calculating execution time\n",
        "import timeit\n",
        "\n",
        "print(\"infer_datetime_format = True, no date parser\\n\")\n",
        "%timeit pd.read_fwf(\"http://www.cpc.ncep.noaa.gov/products/precip/CWlink/daily_ao_index/monthly.ao.index.b50.current.ascii\", parse_dates = [[0, 1]], infer_datetime_format = True, header = None,)\n",
        "\n",
        "print(\"infer_datetime_format = False, no date parser\\n\")\n",
        "%timeit pd.read_fwf(\"http://www.cpc.ncep.noaa.gov/products/precip/CWlink/daily_ao_index/monthly.ao.index.b50.current.ascii\", parse_dates = [[0, 1]], infer_datetime_format = False, header = None,)\n",
        "\n",
        "\n",
        "print(\"infer_datetime_format = True, no date parser\\n\")\n",
        "dateparse = lambda x,y: pd.datetime.strptime('%s-%s'%(x,y),'%Y-%m')\n",
        "%timeit pd.read_fwf(\"http://www.cpc.ncep.noaa.gov/products/precip/CWlink/daily_ao_index/monthly.ao.index.b50.current.ascii\", parse_dates = [[0, 1]], infer_datetime_format = True,date_parser = dateparse, header = None,)\n",
        "\n",
        "print(\"infer_datetime_format = False, no date parser\\n\")\n",
        "dateparse = lambda x,y: pd.datetime.strptime('%s-%s'%(x,y),'%Y-%m')\n",
        "%timeit pd.read_fwf(\"http://www.cpc.ncep.noaa.gov/products/precip/CWlink/daily_ao_index/monthly.ao.index.b50.current.ascii\", parse_dates = [[0, 1]], infer_datetime_format = False,date_parser = dateparse, header = None,)\n"
      ],
      "execution_count": 26,
      "outputs": [
        {
          "output_type": "stream",
          "text": [
            "infer_datetime_format = True, no date parser\n",
            "\n",
            "1 loop, best of 5: 475 ms per loop\n",
            "infer_datetime_format = False, no date parser\n",
            "\n",
            "1 loop, best of 5: 473 ms per loop\n",
            "infer_datetime_format = True, no date parser\n",
            "\n"
          ],
          "name": "stdout"
        },
        {
          "output_type": "stream",
          "text": [
            "/usr/local/lib/python3.7/dist-packages/ipykernel_launcher.py:13: FutureWarning: The pandas.datetime class is deprecated and will be removed from pandas in a future version. Import from datetime module instead.\n",
            "  del sys.path[0]\n"
          ],
          "name": "stderr"
        },
        {
          "output_type": "stream",
          "text": [
            "1 loop, best of 5: 484 ms per loop\n",
            "infer_datetime_format = False, no date parser\n",
            "\n"
          ],
          "name": "stdout"
        },
        {
          "output_type": "stream",
          "text": [
            "/usr/local/lib/python3.7/dist-packages/ipykernel_launcher.py:17: FutureWarning: The pandas.datetime class is deprecated and will be removed from pandas in a future version. Import from datetime module instead.\n"
          ],
          "name": "stderr"
        },
        {
          "output_type": "stream",
          "text": [
            "1 loop, best of 5: 483 ms per loop\n"
          ],
          "name": "stdout"
        }
      ]
    },
    {
      "cell_type": "code",
      "metadata": {
        "colab": {
          "base_uri": "https://localhost:8080/",
          "height": 112
        },
        "id": "y8rROeAZRLM-",
        "outputId": "749a493a-c627-4bfe-9e07-ac204bb5cb5e"
      },
      "source": [
        "# Already having the datframe and parsing columns\n",
        "df = pd.DataFrame({'year':[2015,2016],'month':[6,3],'day':[7,5],'hour':[9,10]})\n",
        "df"
      ],
      "execution_count": 29,
      "outputs": [
        {
          "output_type": "execute_result",
          "data": {
            "text/html": [
              "<div>\n",
              "<style scoped>\n",
              "    .dataframe tbody tr th:only-of-type {\n",
              "        vertical-align: middle;\n",
              "    }\n",
              "\n",
              "    .dataframe tbody tr th {\n",
              "        vertical-align: top;\n",
              "    }\n",
              "\n",
              "    .dataframe thead th {\n",
              "        text-align: right;\n",
              "    }\n",
              "</style>\n",
              "<table border=\"1\" class=\"dataframe\">\n",
              "  <thead>\n",
              "    <tr style=\"text-align: right;\">\n",
              "      <th></th>\n",
              "      <th>year</th>\n",
              "      <th>month</th>\n",
              "      <th>day</th>\n",
              "      <th>hour</th>\n",
              "    </tr>\n",
              "  </thead>\n",
              "  <tbody>\n",
              "    <tr>\n",
              "      <th>0</th>\n",
              "      <td>2015</td>\n",
              "      <td>6</td>\n",
              "      <td>7</td>\n",
              "      <td>9</td>\n",
              "    </tr>\n",
              "    <tr>\n",
              "      <th>1</th>\n",
              "      <td>2016</td>\n",
              "      <td>3</td>\n",
              "      <td>5</td>\n",
              "      <td>10</td>\n",
              "    </tr>\n",
              "  </tbody>\n",
              "</table>\n",
              "</div>"
            ],
            "text/plain": [
              "   year  month  day  hour\n",
              "0  2015      6    7     9\n",
              "1  2016      3    5    10"
            ]
          },
          "metadata": {
            "tags": []
          },
          "execution_count": 29
        }
      ]
    },
    {
      "cell_type": "code",
      "metadata": {
        "colab": {
          "base_uri": "https://localhost:8080/"
        },
        "id": "YmDYOO1hTUSe",
        "outputId": "55c79282-5033-49a4-b140-4238a1266c2a"
      },
      "source": [
        "pd.to_datetime(df)"
      ],
      "execution_count": 30,
      "outputs": [
        {
          "output_type": "execute_result",
          "data": {
            "text/plain": [
              "0   2015-06-07 09:00:00\n",
              "1   2016-03-05 10:00:00\n",
              "dtype: datetime64[ns]"
            ]
          },
          "metadata": {
            "tags": []
          },
          "execution_count": 30
        }
      ]
    },
    {
      "cell_type": "code",
      "metadata": {
        "colab": {
          "base_uri": "https://localhost:8080/"
        },
        "id": "RYrVyS6dUHrD",
        "outputId": "725eb27b-5450-4cf4-cf17-fb7b770d014f"
      },
      "source": [
        "# Truncate function\n",
        "ts = pd.Series(range(10),index = pd.date_range('7/31/2015', freq = 'M', periods = 10))\n",
        "ts.truncate(before='10/31/2015',after='12/31/2015')"
      ],
      "execution_count": 37,
      "outputs": [
        {
          "output_type": "execute_result",
          "data": {
            "text/plain": [
              "2015-10-31    3\n",
              "2015-11-30    4\n",
              "2015-12-31    5\n",
              "Freq: M, dtype: int64"
            ]
          },
          "metadata": {
            "tags": []
          },
          "execution_count": 37
        }
      ]
    },
    {
      "cell_type": "code",
      "metadata": {
        "colab": {
          "base_uri": "https://localhost:8080/"
        },
        "id": "NSwNjwz1TwD0",
        "outputId": "c30ffcba-89e6-4bac-de57-844654b9f072"
      },
      "source": [
        "# Breaking Frequency\n",
        "ts[[0,2,6]].index"
      ],
      "execution_count": 38,
      "outputs": [
        {
          "output_type": "execute_result",
          "data": {
            "text/plain": [
              "DatetimeIndex(['2015-07-31', '2015-09-30', '2016-01-31'], dtype='datetime64[ns]', freq=None)"
            ]
          },
          "metadata": {
            "tags": []
          },
          "execution_count": 38
        }
      ]
    },
    {
      "cell_type": "code",
      "metadata": {
        "id": "rmdXqiAhUzDx"
      },
      "source": [
        ""
      ],
      "execution_count": null,
      "outputs": []
    }
  ]
}