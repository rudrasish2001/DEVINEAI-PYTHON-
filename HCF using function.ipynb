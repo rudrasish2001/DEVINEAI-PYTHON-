{
 "cells": [
  {
   "cell_type": "code",
   "execution_count": 23,
   "metadata": {},
   "outputs": [
    {
     "name": "stdout",
     "output_type": "stream",
     "text": [
      "enter 1st number:12\n",
      "enter 2nd number:16\n",
      "factors of 1st number are [1, 2, 3, 4, 6, 12] factors of 2nd number are [1, 2, 4, 8, 16]\n",
      "HCF is 4\n"
     ]
    }
   ],
   "source": [
    "def HCF(num1,num2):\n",
    "    fact1=[]\n",
    "    fact2=[]\n",
    "    for i in range(1,int(num1/2)+1):\n",
    "        if num1%i==0:\n",
    "            fact1.append(i)\n",
    "    fact1.append(num1)\n",
    "    for i in range(1,int(num2/2)+1):\n",
    "        if num2%i==0:\n",
    "            fact2.append(i)\n",
    "    fact2.append(num2)\n",
    "    print(f\"factors of 1st number are {fact1} factors of 2nd number are {fact2}\")\n",
    "    common_set=set()\n",
    "    for i in fact1:\n",
    "        if i in fact2:\n",
    "            common_set.add(i)\n",
    "    return max(common_set)\n",
    "a=int(input(\"enter 1st number:\"))\n",
    "b=int(input(\"enter 2nd number:\"))\n",
    "#print(f\"common factors are {common_set}\")\n",
    "hcf=HCF(a,b)\n",
    "#print(f\"HCF is {max(common_set)}\")\n",
    "print(f\"HCF is {hcf}\")"
   ]
  },
  {
   "cell_type": "code",
   "execution_count": null,
   "metadata": {},
   "outputs": [],
   "source": []
  }
 ],
 "metadata": {
  "kernelspec": {
   "display_name": "Python 3",
   "language": "python",
   "name": "python3"
  },
  "language_info": {
   "codemirror_mode": {
    "name": "ipython",
    "version": 3
   },
   "file_extension": ".py",
   "mimetype": "text/x-python",
   "name": "python",
   "nbconvert_exporter": "python",
   "pygments_lexer": "ipython3",
   "version": "3.8.5"
  }
 },
 "nbformat": 4,
 "nbformat_minor": 4
}
