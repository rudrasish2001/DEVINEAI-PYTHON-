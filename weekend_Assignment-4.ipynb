{
 "cells": [
  {
   "cell_type": "code",
   "execution_count": 5,
   "metadata": {},
   "outputs": [
    {
     "name": "stdout",
     "output_type": "stream",
     "text": [
      "Digits: 33\n"
     ]
    }
   ],
   "source": [
    "# Counting total Digits in a string\n",
    "str = \"Python806889  has897097978 a vast 958465978609 library098098\"\n",
    "digit=letter=0\n",
    "for ch in str:\n",
    "   if ch.isdigit():\n",
    "      digit=digit+1\n",
    "   elif ch.isalpha():\n",
    "      letter=letter+1\n",
    "   else:\n",
    "      pass\n",
    "print(\"Digits:\", digit)"
   ]
  },
  {
   "cell_type": "code",
   "execution_count": 3,
   "metadata": {},
   "outputs": [
    {
     "name": "stdout",
     "output_type": "stream",
     "text": [
      "Enter r of a cylinder:23\n",
      "Enter the Height of a cylinder:12\n",
      "surface area of a cylinder wll be 39885.66\n",
      "volume of a cylinder will be  19942.83\n"
     ]
    }
   ],
   "source": [
    "#write a Python function To Calculate Volume OF Cylinder\n",
    "import math\n",
    "r=float(input(\"Enter r of a cylinder:\"))\n",
    "h=float(input(\"Enter the Height of a cylinder:\"))\n",
    "s_area=2*math.pi*pow(r,2)*h\n",
    "volume=math.pi*pow(r,2)*h\n",
    "print(\"surface area of a cylinder wll be %.2f\" %s_area)\n",
    "print(\"volume of a cylinder will be  %.2f\" %volume)"
   ]
  },
  {
   "cell_type": "code",
   "execution_count": 7,
   "metadata": {},
   "outputs": [
    {
     "name": "stdout",
     "output_type": "stream",
     "text": [
      "Please Enter your Own String : 12.Python Program to Count Alphabets Digits and Special Characters in a String  \n",
      "\n",
      "Total Number of Alphabets in this String :   64\n",
      "Total Number of Digits in this String :   2\n",
      "Total Number of Special Characters in this String :   14\n"
     ]
    }
   ],
   "source": [
    "# Counting total alphanumeric and special characters in a string\n",
    "string = input(\"Please Enter your Own String : \")\n",
    "alphabets = digits = special = 0\n",
    "\n",
    "for i in range(len(string)):\n",
    "    if(string[i].isalpha()):\n",
    "        alphabets = alphabets + 1\n",
    "    elif(string[i].isdigit()):\n",
    "        digits = digits + 1\n",
    "    else:\n",
    "        special = special + 1\n",
    "        \n",
    "print(\"\\nTotal Number of Alphabets in this String :  \", alphabets)\n",
    "print(\"Total Number of Digits in this String :  \", digits)\n",
    "print(\"Total Number of Special Characters in this String :  \", special)"
   ]
  },
  {
   "cell_type": "code",
   "execution_count": null,
   "metadata": {},
   "outputs": [],
   "source": []
  }
 ],
 "metadata": {
  "kernelspec": {
   "display_name": "Python 3",
   "language": "python",
   "name": "python3"
  },
  "language_info": {
   "codemirror_mode": {
    "name": "ipython",
    "version": 3
   },
   "file_extension": ".py",
   "mimetype": "text/x-python",
   "name": "python",
   "nbconvert_exporter": "python",
   "pygments_lexer": "ipython3",
   "version": "3.7.4"
  }
 },
 "nbformat": 4,
 "nbformat_minor": 2
}
